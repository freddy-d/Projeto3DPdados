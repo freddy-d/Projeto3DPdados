{
 "cells": [
  {
   "cell_type": "markdown",
   "metadata": {},
   "source": [
    "___\n",
    "## Ciência dos Dados - PROJETO 3 - INSPER"
   ]
  },
  {
   "cell_type": "markdown",
   "metadata": {},
   "source": [
    "___\n",
    "#### Freddy Dratwa\n",
    "\n",
    "#### Victor Vazquez\n",
    "\n",
    "#### Michel Haggiag\n",
    "\n",
    "#### Allan Singer\n",
    "\n",
    "#### Ricardo Ferraro\n",
    "\n",
    "___"
   ]
  },
  {
   "cell_type": "markdown",
   "metadata": {},
   "source": [
    "# Estudo do preço do carro"
   ]
  },
  {
   "cell_type": "markdown",
   "metadata": {},
   "source": [
    "___\n",
    "\n",
    "## A. INTRODUÇÃO"
   ]
  },
  {
   "cell_type": "markdown",
   "metadata": {},
   "source": [
    "O objetivo deste projeto é chegar ao melhor modelo possível que seja capaz de prever o preço de um carro usado nos EUA a partir das características presentes no dataset:\n",
    "    - Preço;\n",
    "    - Ano;\n",
    "    - Quilometragem;\n",
    "    - Cidade;\n",
    "    - Estado;\n",
    "    - Marca;\n",
    "    - Modelo;\n",
    "    - Número de Chassis.\n",
    "\n",
    "A base de dados possui 1.2 milhão de carros com data de produção entre os anos 1997 a 2018 de 58 marcas diferentes, sendo estes 2914 modelos distintos com o preço mÍnimo de US1.500,00 e máximo de US462.000,00 , com a mínima quilometragem 8 Km e a máxima 2.286.260,8 Km.<br>\n",
    "\n",
    "Como uma primeira previsão, imagina-se que algumas das características do dataset influenciam mais no preço do carro do que outras. Por exemplo, é de se esperar que um carro comprado há mais tempo tenha seu preço menor atualmente. Ou seja, a variavel \"Ano\", que representa o ano em que o carro foi fabricado, deve influenciar muito no preço do veículo, bem como a quilometragem, onde um carro que foi comprado mas usado pouco deve permanecer mais barato do que um usado muitas vezes.<br>\n",
    "\n"
   ]
  },
  {
   "cell_type": "markdown",
   "metadata": {},
   "source": [
    "___\n",
    "## B. MINERANDO DADOS e CARACTERÍSTICAS DO DATASET"
   ]
  },
  {
   "cell_type": "code",
   "execution_count": 1,
   "metadata": {},
   "outputs": [],
   "source": [
    "import pandas as pd\n",
    "import os\n",
    "import numpy as np\n",
    "import matplotlib.pyplot as plt\n",
    "import statsmodels.api as sm\n",
    "from sklearn import datasets, linear_model\n",
    "from sklearn.model_selection import train_test_split"
   ]
  },
  {
   "cell_type": "markdown",
   "metadata": {},
   "source": [
    "### BASE DE DADOS"
   ]
  },
  {
   "cell_type": "markdown",
   "metadata": {},
   "source": [
    "**Limpando e tratando dataset**\n",
    "\n",
    "Nas células abaixo, o dataset é limpo e reorganiazdo. Para se fazer isso, a coluna \"Chassi\" é removoida, pois esta é uma característica individual para cada veículo e não influencia no preço final do mesmo, acompanhada da variável \"Estado\", que é retirada pois a localização onde o carro é usado não altera seu preço após um certo período de tempo. Alem disso, duas colunas vazias foram reitradas. Então, a variável milhagem foi transformada em quilometragem, multplicando seu valor por 1.6. Por último, a variavel ano foi transformada em idade, ou seja, a diferença do ano atual (2019) para o ano em que o carro foi vendido. "
   ]
  },
  {
   "cell_type": "code",
   "execution_count": 2,
   "metadata": {},
   "outputs": [],
   "source": [
    "dataset = pd.read_csv(\"Dataframe.csv\")"
   ]
  },
  {
   "cell_type": "code",
   "execution_count": 3,
   "metadata": {},
   "outputs": [
    {
     "data": {
      "text/html": [
       "<div>\n",
       "<style scoped>\n",
       "    .dataframe tbody tr th:only-of-type {\n",
       "        vertical-align: middle;\n",
       "    }\n",
       "\n",
       "    .dataframe tbody tr th {\n",
       "        vertical-align: top;\n",
       "    }\n",
       "\n",
       "    .dataframe thead th {\n",
       "        text-align: right;\n",
       "    }\n",
       "</style>\n",
       "<table border=\"1\" class=\"dataframe\">\n",
       "  <thead>\n",
       "    <tr style=\"text-align: right;\">\n",
       "      <th></th>\n",
       "      <th>Unnamed: 0</th>\n",
       "      <th>Id</th>\n",
       "      <th>Price</th>\n",
       "      <th>Year</th>\n",
       "      <th>Mileage</th>\n",
       "      <th>City</th>\n",
       "      <th>State</th>\n",
       "      <th>Vin</th>\n",
       "      <th>Make</th>\n",
       "      <th>Model</th>\n",
       "      <th>Unnamed: 9</th>\n",
       "      <th>Unnamed: 10</th>\n",
       "    </tr>\n",
       "  </thead>\n",
       "  <tbody>\n",
       "    <tr>\n",
       "      <th>0</th>\n",
       "      <td>0</td>\n",
       "      <td>79293.0</td>\n",
       "      <td>18684.0</td>\n",
       "      <td>2015.0</td>\n",
       "      <td>12499.0</td>\n",
       "      <td>Owensboro</td>\n",
       "      <td>KY</td>\n",
       "      <td>3C4PDCBB6FT631351</td>\n",
       "      <td>Dodge</td>\n",
       "      <td>JourneySXT</td>\n",
       "      <td>NaN</td>\n",
       "      <td>NaN</td>\n",
       "    </tr>\n",
       "    <tr>\n",
       "      <th>1</th>\n",
       "      <td>1</td>\n",
       "      <td>190834.0</td>\n",
       "      <td>26318.0</td>\n",
       "      <td>2016.0</td>\n",
       "      <td>8477.0</td>\n",
       "      <td>Corpus Christi</td>\n",
       "      <td>TX</td>\n",
       "      <td>WBA8E1G52GNT36643</td>\n",
       "      <td>BMW</td>\n",
       "      <td>3</td>\n",
       "      <td>NaN</td>\n",
       "      <td>NaN</td>\n",
       "    </tr>\n",
       "    <tr>\n",
       "      <th>2</th>\n",
       "      <td>2</td>\n",
       "      <td>670383.0</td>\n",
       "      <td>25802.0</td>\n",
       "      <td>2014.0</td>\n",
       "      <td>65878.0</td>\n",
       "      <td>Port Lavaca</td>\n",
       "      <td>TX</td>\n",
       "      <td>1FM5K7F80EGC01722</td>\n",
       "      <td>Ford</td>\n",
       "      <td>ExplorerLimited</td>\n",
       "      <td>NaN</td>\n",
       "      <td>NaN</td>\n",
       "    </tr>\n",
       "    <tr>\n",
       "      <th>3</th>\n",
       "      <td>3</td>\n",
       "      <td>586732.0</td>\n",
       "      <td>9899.0</td>\n",
       "      <td>2005.0</td>\n",
       "      <td>108512.0</td>\n",
       "      <td>Lindon</td>\n",
       "      <td>UT</td>\n",
       "      <td>1D7HW48N05S164407</td>\n",
       "      <td>Dodge</td>\n",
       "      <td>Dakota4WD</td>\n",
       "      <td>NaN</td>\n",
       "      <td>NaN</td>\n",
       "    </tr>\n",
       "    <tr>\n",
       "      <th>4</th>\n",
       "      <td>4</td>\n",
       "      <td>37609.0</td>\n",
       "      <td>30999.0</td>\n",
       "      <td>2016.0</td>\n",
       "      <td>8358.0</td>\n",
       "      <td>Fond du Lac</td>\n",
       "      <td>WI</td>\n",
       "      <td>1FA6P8CF2G5310562</td>\n",
       "      <td>Ford</td>\n",
       "      <td>MustangFastback</td>\n",
       "      <td>NaN</td>\n",
       "      <td>NaN</td>\n",
       "    </tr>\n",
       "  </tbody>\n",
       "</table>\n",
       "</div>"
      ],
      "text/plain": [
       "   Unnamed: 0        Id    Price    Year   Mileage            City State  \\\n",
       "0           0   79293.0  18684.0  2015.0   12499.0       Owensboro    KY   \n",
       "1           1  190834.0  26318.0  2016.0    8477.0  Corpus Christi    TX   \n",
       "2           2  670383.0  25802.0  2014.0   65878.0     Port Lavaca    TX   \n",
       "3           3  586732.0   9899.0  2005.0  108512.0          Lindon    UT   \n",
       "4           4   37609.0  30999.0  2016.0    8358.0     Fond du Lac    WI   \n",
       "\n",
       "                 Vin   Make            Model  Unnamed: 9  Unnamed: 10  \n",
       "0  3C4PDCBB6FT631351  Dodge       JourneySXT         NaN          NaN  \n",
       "1  WBA8E1G52GNT36643    BMW                3         NaN          NaN  \n",
       "2  1FM5K7F80EGC01722   Ford  ExplorerLimited         NaN          NaN  \n",
       "3  1D7HW48N05S164407  Dodge        Dakota4WD         NaN          NaN  \n",
       "4  1FA6P8CF2G5310562   Ford  MustangFastback         NaN          NaN  "
      ]
     },
     "execution_count": 3,
     "metadata": {},
     "output_type": "execute_result"
    }
   ],
   "source": [
    "dataset.head()"
   ]
  },
  {
   "cell_type": "code",
   "execution_count": 4,
   "metadata": {},
   "outputs": [
    {
     "data": {
      "text/html": [
       "<div>\n",
       "<style scoped>\n",
       "    .dataframe tbody tr th:only-of-type {\n",
       "        vertical-align: middle;\n",
       "    }\n",
       "\n",
       "    .dataframe tbody tr th {\n",
       "        vertical-align: top;\n",
       "    }\n",
       "\n",
       "    .dataframe thead th {\n",
       "        text-align: right;\n",
       "    }\n",
       "</style>\n",
       "<table border=\"1\" class=\"dataframe\">\n",
       "  <thead>\n",
       "    <tr style=\"text-align: right;\">\n",
       "      <th></th>\n",
       "      <th>ID</th>\n",
       "      <th>PRECO</th>\n",
       "      <th>ANO</th>\n",
       "      <th>IDADE</th>\n",
       "      <th>KM</th>\n",
       "      <th>CIDADE</th>\n",
       "      <th>ESTADO</th>\n",
       "      <th>MARCA</th>\n",
       "      <th>MODELO</th>\n",
       "    </tr>\n",
       "  </thead>\n",
       "  <tbody>\n",
       "    <tr>\n",
       "      <th>0</th>\n",
       "      <td>79293.0</td>\n",
       "      <td>18684.0</td>\n",
       "      <td>2015.0</td>\n",
       "      <td>4.0</td>\n",
       "      <td>19998.4</td>\n",
       "      <td>OWENSBORO</td>\n",
       "      <td>KY</td>\n",
       "      <td>DODGE</td>\n",
       "      <td>JourneySXT</td>\n",
       "    </tr>\n",
       "    <tr>\n",
       "      <th>1</th>\n",
       "      <td>190834.0</td>\n",
       "      <td>26318.0</td>\n",
       "      <td>2016.0</td>\n",
       "      <td>3.0</td>\n",
       "      <td>13563.2</td>\n",
       "      <td>CORPUS CHRISTI</td>\n",
       "      <td>TX</td>\n",
       "      <td>BMW</td>\n",
       "      <td>3</td>\n",
       "    </tr>\n",
       "    <tr>\n",
       "      <th>2</th>\n",
       "      <td>670383.0</td>\n",
       "      <td>25802.0</td>\n",
       "      <td>2014.0</td>\n",
       "      <td>5.0</td>\n",
       "      <td>105404.8</td>\n",
       "      <td>PORT LAVACA</td>\n",
       "      <td>TX</td>\n",
       "      <td>FORD</td>\n",
       "      <td>ExplorerLimited</td>\n",
       "    </tr>\n",
       "    <tr>\n",
       "      <th>3</th>\n",
       "      <td>586732.0</td>\n",
       "      <td>9899.0</td>\n",
       "      <td>2005.0</td>\n",
       "      <td>14.0</td>\n",
       "      <td>173619.2</td>\n",
       "      <td>LINDON</td>\n",
       "      <td>UT</td>\n",
       "      <td>DODGE</td>\n",
       "      <td>Dakota4WD</td>\n",
       "    </tr>\n",
       "    <tr>\n",
       "      <th>4</th>\n",
       "      <td>37609.0</td>\n",
       "      <td>30999.0</td>\n",
       "      <td>2016.0</td>\n",
       "      <td>3.0</td>\n",
       "      <td>13372.8</td>\n",
       "      <td>FOND DU LAC</td>\n",
       "      <td>WI</td>\n",
       "      <td>FORD</td>\n",
       "      <td>MustangFastback</td>\n",
       "    </tr>\n",
       "  </tbody>\n",
       "</table>\n",
       "</div>"
      ],
      "text/plain": [
       "         ID    PRECO     ANO  IDADE        KM          CIDADE ESTADO  MARCA  \\\n",
       "0   79293.0  18684.0  2015.0    4.0   19998.4       OWENSBORO     KY  DODGE   \n",
       "1  190834.0  26318.0  2016.0    3.0   13563.2  CORPUS CHRISTI     TX    BMW   \n",
       "2  670383.0  25802.0  2014.0    5.0  105404.8     PORT LAVACA     TX   FORD   \n",
       "3  586732.0   9899.0  2005.0   14.0  173619.2          LINDON     UT  DODGE   \n",
       "4   37609.0  30999.0  2016.0    3.0   13372.8     FOND DU LAC     WI   FORD   \n",
       "\n",
       "            MODELO  \n",
       "0       JourneySXT  \n",
       "1                3  \n",
       "2  ExplorerLimited  \n",
       "3        Dakota4WD  \n",
       "4  MustangFastback  "
      ]
     },
     "execution_count": 4,
     "metadata": {},
     "output_type": "execute_result"
    }
   ],
   "source": [
    "if \"Vin\" in dataset:\n",
    "    dataset = dataset.drop(columns=[\"Vin\", \"Unnamed: 9\", \"Unnamed: 10\", \"Unnamed: 0\"])\n",
    "    dataset[\"Mileage\"] = dataset[\"Mileage\"].apply(lambda x: x*1.6)\n",
    "\n",
    "    dataset.columns = [\"ID\",\"PRECO\",\"ANO\",\"KM\",\"CIDADE\",\"ESTADO\",\"MARCA\",\"MODELO\"]\n",
    "    dataset[\"IDADE\"] = dataset[\"ANO\"].apply(lambda x: 2019-x)\n",
    "\n",
    "    dataset.ID = dataset.ID.astype(\"float\")\n",
    "    dataset.PRECO = dataset.PRECO.astype(\"float\")\n",
    "    dataset.ANO = dataset.ANO.astype(\"float\")\n",
    "    dataset.KM = dataset.KM.astype(\"float\")\n",
    "    dataset.IDADE = dataset.IDADE.astype(\"float\")\n",
    "    dataset.CIDADE = dataset.CIDADE.astype(\"category\")\n",
    "    dataset.ESTADO = dataset.ESTADO.astype(\"category\")\n",
    "    dataset.MARCA = dataset.MARCA.astype(\"category\")\n",
    "    dataset.MODELO = dataset.MODELO.astype(\"category\")\n",
    "\n",
    "    dataset[\"ESTADO\"] = dataset[\"ESTADO\"].apply(lambda x: x.upper())\n",
    "    dataset[\"CIDADE\"] = dataset[\"CIDADE\"].apply(lambda x: x.upper())\n",
    "    dataset[\"MARCA\"] = dataset[\"MARCA\"].apply(lambda x: x.upper())\n",
    "    dataset = dataset[[\"ID\",\"PRECO\",\"ANO\",\"IDADE\",\"KM\",\"CIDADE\",\"ESTADO\",\"MARCA\",\"MODELO\"]]\n",
    "    \n",
    "dataset.head()"
   ]
  },
  {
   "cell_type": "markdown",
   "metadata": {},
   "source": [
    "## ANÁLISE DESCRITIVA"
   ]
  },
  {
   "cell_type": "markdown",
   "metadata": {},
   "source": [
    "Nas celulas que seguem, ocorre a análise descritiva das variaveis, semelhante ao projeto 1. Em um primeiro momento, serão analisadas cada uma das variáveis. "
   ]
  },
  {
   "cell_type": "markdown",
   "metadata": {},
   "source": [
    "**Características da variável Preço**"
   ]
  },
  {
   "cell_type": "code",
   "execution_count": 5,
   "metadata": {},
   "outputs": [
    {
     "data": {
      "text/plain": [
       "count    100000.000000\n",
       "mean      21032.639190\n",
       "std       13079.287997\n",
       "min        1500.000000\n",
       "25%       12991.000000\n",
       "50%       17995.000000\n",
       "75%       26590.000000\n",
       "max      429900.000000\n",
       "Name: PRECO, dtype: float64"
      ]
     },
     "execution_count": 5,
     "metadata": {},
     "output_type": "execute_result"
    }
   ],
   "source": [
    "dataset[\"PRECO\"].describe()"
   ]
  },
  {
   "cell_type": "code",
   "execution_count": 6,
   "metadata": {},
   "outputs": [
    {
     "data": {
      "image/png": "[encoded data removed]",
      "text/plain": [
       "<Figure size 432x288 with 1 Axes>"
      ]
     },
     "metadata": {
      "needs_background": "light"
     },
     "output_type": "display_data"
    }
   ],
   "source": [
    "dataset[\"PRECO\"].plot.hist(logy = True, bins = 500);\n",
    "plt.xlabel(\"Preço\");"
   ]
  },
  {
   "cell_type": "code",
   "execution_count": 7,
   "metadata": {},
   "outputs": [
    {
     "data": {
      "image/png": "[encoded data removed]",
      "text/plain": [
       "<Figure size 432x288 with 1 Axes>"
      ]
     },
     "metadata": {
      "needs_background": "light"
     },
     "output_type": "display_data"
    }
   ],
   "source": [
    "dataset[\"PRECO\"].plot.box()\n",
    "plt.show()"
   ]
  },
  {
   "cell_type": "markdown",
   "metadata": {},
   "source": [
    "Análise:\n",
    "\n",
    "A primeira variável "
   ]
  },
  {
   "cell_type": "markdown",
   "metadata": {},
   "source": [
    "**Características da variável Idade**"
   ]
  },
  {
   "cell_type": "code",
   "execution_count": 8,
   "metadata": {},
   "outputs": [
    {
     "data": {
      "text/plain": [
       "count    100000.00000\n",
       "mean          5.68960\n",
       "std           3.42571\n",
       "min           1.00000\n",
       "25%           3.00000\n",
       "50%           5.00000\n",
       "75%           7.00000\n",
       "max          22.00000\n",
       "Name: IDADE, dtype: float64"
      ]
     },
     "execution_count": 8,
     "metadata": {},
     "output_type": "execute_result"
    }
   ],
   "source": [
    "dataset[\"IDADE\"].describe()"
   ]
  },
  {
   "cell_type": "code",
   "execution_count": 9,
   "metadata": {},
   "outputs": [
    {
     "data": {
      "text/plain": [
       "4.0    18254\n",
       "5.0    18123\n",
       "3.0    15668\n",
       "2.0    11483\n",
       "6.0     8853\n",
       "Name: IDADE, dtype: int64"
      ]
     },
     "execution_count": 9,
     "metadata": {},
     "output_type": "execute_result"
    }
   ],
   "source": [
    "dataset[\"IDADE\"].value_counts().head(5)"
   ]
  },
  {
   "cell_type": "code",
   "execution_count": 10,
   "metadata": {},
   "outputs": [
    {
     "data": {
      "image/png": "[encoded data removed]",
      "text/plain": [
       "<Figure size 432x288 with 1 Axes>"
      ]
     },
     "metadata": {
      "needs_background": "light"
     },
     "output_type": "display_data"
    }
   ],
   "source": [
    "quantidade_por_idade = []\n",
    "for i in range(22):\n",
    "    quantidade_por_idade.append(len(dataset[\"IDADE\"].loc[dataset[\"IDADE\"] == i+1]))\n",
    "\n",
    "\n",
    "plt.bar(np.arange(1,23,1), quantidade_por_idade)\n",
    "plt.title(\"Quantidade de carros por idade\")\n",
    "plt.xlabel(\"Idade (anos)\")\n",
    "plt.ylabel(\"Quantidade\")\n",
    "plt.show()"
   ]
  },
  {
   "cell_type": "code",
   "execution_count": 11,
   "metadata": {},
   "outputs": [
    {
     "data": {
      "image/png": "[encoded data removed]",
      "text/plain": [
       "<Figure size 432x288 with 1 Axes>"
      ]
     },
     "metadata": {
      "needs_background": "light"
     },
     "output_type": "display_data"
    }
   ],
   "source": [
    "dataset[\"IDADE\"].plot.box()\n",
    "plt.show()"
   ]
  },
  {
   "cell_type": "markdown",
   "metadata": {},
   "source": [
    "Análise:\n",
    "\n",
    "A terceira variável analisada é a idade. Esta é a diferença entre o ano de hoje (2019), para o ano em que o carro foi fabricado. Após as plotagens do histograma e do boxplot, nota-se a grande maioria dos carros foi tem até 5 anos de idade, ou seja, a maioria deles são carros \"jovens\". Esta informação é confirmada pelo boxplot. Entretanto, existem alguns outliers, que ficam evidenciados em ambos os gráficos. Eles mostram que varios carros têm mais do que 5 anos de idade."
   ]
  },
  {
   "cell_type": "markdown",
   "metadata": {},
   "source": [
    "**Características da variável Km**"
   ]
  },
  {
   "cell_type": "code",
   "execution_count": 12,
   "metadata": {},
   "outputs": [
    {
     "data": {
      "text/plain": [
       "count    1.000000e+05\n",
       "mean     8.462736e+04\n",
       "std      6.670870e+04\n",
       "min      8.000000e+00\n",
       "25%      3.883040e+04\n",
       "50%      6.530400e+04\n",
       "75%      1.160008e+05\n",
       "max      2.062016e+06\n",
       "Name: KM, dtype: float64"
      ]
     },
     "execution_count": 12,
     "metadata": {},
     "output_type": "execute_result"
    }
   ],
   "source": [
    "dataset[\"KM\"].describe()"
   ]
  },
  {
   "cell_type": "code",
   "execution_count": 13,
   "metadata": {},
   "outputs": [
    {
     "data": {
      "text/plain": [
       "(-10000, 400000)"
      ]
     },
     "execution_count": 13,
     "metadata": {},
     "output_type": "execute_result"
    },
    {
     "data": {
      "image/png": "[encoded data removed]",
      "text/plain": [
       "<Figure size 432x288 with 1 Axes>"
      ]
     },
     "metadata": {
      "needs_background": "light"
     },
     "output_type": "display_data"
    }
   ],
   "source": [
    "dataset[\"KM\"].plot.hist(bins=500);\n",
    "plt.xlabel(\"Km\");\n",
    "plt.xlim(-10000,400000)"
   ]
  },
  {
   "cell_type": "code",
   "execution_count": 14,
   "metadata": {},
   "outputs": [
    {
     "data": {
      "image/png": "[encoded data removed]",
      "text/plain": [
       "<Figure size 432x288 with 1 Axes>"
      ]
     },
     "metadata": {
      "needs_background": "light"
     },
     "output_type": "display_data"
    }
   ],
   "source": [
    "dataset[\"KM\"].plot.box()\n",
    "plt.show()"
   ]
  },
  {
   "cell_type": "markdown",
   "metadata": {},
   "source": [
    "Análise:\n",
    "\n",
    "A próxima variavel analisada é a quilometragem, ou seja, quantos quilometros os carros ja rodaram. Pelo fato de a maioria dos carros terem sido fabricados há menos de 10 anos, imagina-se que em sua maioria, os carros não tenham quilometragem alta. Esta hipótese é confirmada pelos gráficos. Com a plotagem do histograma e do boxplot, percebe-se que a maioria dos carros tem 50000 km rodados, sendo que existem alguns com mais e outros com menos. Este já é um número considerável mas, como pode se ver no boxplot, existem carros com mais de 3 milhões de km rodados. Assim, 50000 parece um numero pequeno. Tambem fica claro pelo boxplot que existe uma quantidade consideravel de outliers. Mesmo assim, a concentração maior se encontra nos 50000 km. "
   ]
  },
  {
   "cell_type": "markdown",
   "metadata": {},
   "source": [
    "**Característica da variável Marca**"
   ]
  },
  {
   "cell_type": "code",
   "execution_count": 15,
   "metadata": {},
   "outputs": [
    {
     "data": {
      "text/plain": [
       "count     100000\n",
       "unique        58\n",
       "top         FORD\n",
       "freq       15317\n",
       "Name: MARCA, dtype: object"
      ]
     },
     "execution_count": 15,
     "metadata": {},
     "output_type": "execute_result"
    }
   ],
   "source": [
    "dataset[\"MARCA\"].describe()"
   ]
  },
  {
   "cell_type": "code",
   "execution_count": 16,
   "metadata": {},
   "outputs": [
    {
     "data": {
      "text/plain": [
       "FORD             15317\n",
       "CHEVROLET        14362\n",
       "HONDA             7289\n",
       "NISSAN            6940\n",
       "JEEP              5726\n",
       "HYUNDAI           5305\n",
       "DODGE             4871\n",
       "KIA               4091\n",
       "GMC               4071\n",
       "MERCEDES-BENZ     3572\n",
       "Name: MARCA, dtype: int64"
      ]
     },
     "execution_count": 16,
     "metadata": {},
     "output_type": "execute_result"
    }
   ],
   "source": [
    "dataset[\"MARCA\"].value_counts().head(10)"
   ]
  },
  {
   "cell_type": "markdown",
   "metadata": {},
   "source": [
    "Análise:\n",
    "\n",
    "Como é de se imaginar, o preço de um veículo é muito afetado pela sua marca. Por exemplo, uma Ferrari será muito mais cara do que a grande maioria dos carros da ford, por exemplo. Além disso, nota-se a partir da análise dos value counts feitos que existem muito mais carros de marcas popuares, justamente por que são mais baratos. "
   ]
  },
  {
   "cell_type": "markdown",
   "metadata": {},
   "source": [
    "**Característica da variável Modelo**"
   ]
  },
  {
   "cell_type": "code",
   "execution_count": 17,
   "metadata": {},
   "outputs": [
    {
     "data": {
      "text/plain": [
       "count        100000\n",
       "unique         2109\n",
       "top       Silverado\n",
       "freq           3431\n",
       "Name: MODELO, dtype: object"
      ]
     },
     "execution_count": 17,
     "metadata": {},
     "output_type": "execute_result"
    }
   ],
   "source": [
    "dataset[\"MODELO\"].describe()"
   ]
  },
  {
   "cell_type": "code",
   "execution_count": 18,
   "metadata": {},
   "outputs": [
    {
     "data": {
      "text/plain": [
       "Silverado    3431\n",
       "Grand        2388\n",
       "Altima2.5    1532\n",
       "Sierra       1503\n",
       "Accord       1434\n",
       "F-1504WD     1268\n",
       "Civic        1164\n",
       "Wrangler     1142\n",
       "3            1045\n",
       "Santa         944\n",
       "Name: MODELO, dtype: int64"
      ]
     },
     "execution_count": 18,
     "metadata": {},
     "output_type": "execute_result"
    }
   ],
   "source": [
    "dataset[\"MODELO\"].value_counts().head(10)"
   ]
  },
  {
   "cell_type": "markdown",
   "metadata": {},
   "source": [
    "Análise:\n",
    "\n",
    "A variável analisada é o modelo do carro. O modelo usará esta para prever o preço do carro usando a seguinte lógica: se um modelo encontra-se entre os mais comprados, provavelmente significa que é um dos mais baratos, por que, geralmente os carros mais vendidos são aqueles mais baratos."
   ]
  },
  {
   "cell_type": "markdown",
   "metadata": {},
   "source": [
    "### ANÁLISE DESCRITIVA"
   ]
  },
  {
   "cell_type": "code",
   "execution_count": 19,
   "metadata": {},
   "outputs": [
    {
     "data": {
      "text/plain": [
       "(-10000, 500000)"
      ]
     },
     "execution_count": 19,
     "metadata": {},
     "output_type": "execute_result"
    },
    {
     "data": {
      "image/png": "[encoded data removed]",
      "text/plain": [
       "<Figure size 432x288 with 1 Axes>"
      ]
     },
     "metadata": {
      "needs_background": "light"
     },
     "output_type": "display_data"
    }
   ],
   "source": [
    "dataset.plot.scatter(y = \"PRECO\", x = \"KM\");\n",
    "plt.ylim(-10000,150000)\n",
    "plt.xlim(-10000,500000)"
   ]
  },
  {
   "cell_type": "markdown",
   "metadata": {},
   "source": [
    "Analisando o gráfico Preço x Km, nota-se que o preço do veículo vai caindo conforme a quilometragem do mesmo aumenta, na maioria dos casos."
   ]
  },
  {
   "cell_type": "code",
   "execution_count": 20,
   "metadata": {
    "scrolled": true
   },
   "outputs": [
    {
     "data": {
      "image/png": "[encoded data removed]",
      "text/plain": [
       "<Figure size 432x288 with 1 Axes>"
      ]
     },
     "metadata": {
      "needs_background": "light"
     },
     "output_type": "display_data"
    }
   ],
   "source": [
    "price_mean_by_year = []\n",
    "for i in range(22):\n",
    "    price_mean_by_year.append(dataset[dataset.IDADE == 1+i].PRECO.mean())\n",
    "plt.bar(np.arange(1,23,1), price_mean_by_year)\n",
    "plt.title(\"Preço médio por Idade\")\n",
    "plt.xlabel(\"Idade (anos)\")\n",
    "plt.ylabel(\"Preço (U$)\")\n",
    "plt.show()"
   ]
  },
  {
   "cell_type": "markdown",
   "metadata": {},
   "source": [
    "Analisando o gráfico, é possível verificar que o preço dos carros diminui conforme o mesmo envelhece. Também é possível verificar que há queda mais efetiva no preço nos primeiros anos. "
   ]
  },
  {
   "cell_type": "code",
   "execution_count": 21,
   "metadata": {},
   "outputs": [
    {
     "data": {
      "image/png": "[encoded data removed]",
      "text/plain": [
       "<Figure size 432x288 with 1 Axes>"
      ]
     },
     "metadata": {
      "needs_background": "light"
     },
     "output_type": "display_data"
    }
   ],
   "source": [
    "marcas = dataset[\"MARCA\"].unique()\n",
    "\n",
    "price_mean_by_marca = []\n",
    "for i in marcas:\n",
    "    price_mean_by_marca.append(dataset[dataset.MARCA == i].PRECO.mean())\n",
    "\n",
    "plt.bar(marcas, price_mean_by_marca)\n",
    "plt.xticks(rotation = 90, fontsize = 5)\n",
    "plt.title(\"Preço médio por marcas\")\n",
    "plt.xlabel(\"Marca\")\n",
    "plt.ylabel(\"Preço (U$)\")\n",
    "plt.show()\n"
   ]
  },
  {
   "cell_type": "markdown",
   "metadata": {},
   "source": [
    "O gráfico acima permite afirmar o que foi previsto na análise das informações do modelo do veículo. Como imaginado, o preço dos veículos aumenta conforme a marca. Por exemplo, as que têm os veículos mais caros são Rolss-Royce, Ferrari, Lambhorghini e Mercedes, justamente as marcas que esperava-se que teriam carros mais caros, por serem mais \"famosas\" por terem carros de alto nivel."
   ]
  },
  {
   "cell_type": "code",
   "execution_count": 22,
   "metadata": {},
   "outputs": [
    {
     "data": {
      "image/png": "[encoded data removed]",
      "text/plain": [
       "<Figure size 432x288 with 1 Axes>"
      ]
     },
     "metadata": {
      "needs_background": "light"
     },
     "output_type": "display_data"
    }
   ],
   "source": [
    "estados = dataset[\"ESTADO\"].unique()\n",
    "\n",
    "price_mean_by_estado = []\n",
    "for i in estados:\n",
    "    price_mean_by_estado.append(dataset[dataset.ESTADO == i].PRECO.mean())\n",
    "\n",
    "plt.bar(estados, price_mean_by_estado)\n",
    "plt.xticks(rotation = 90, fontsize = 5)\n",
    "plt.title(\"Preço médio por estado\")\n",
    "plt.xlabel(\"Estado\")\n",
    "plt.ylabel(\"Preço (U$)\")\n",
    "plt.show()"
   ]
  },
  {
   "cell_type": "code",
   "execution_count": null,
   "metadata": {},
   "outputs": [],
   "source": []
  },
  {
   "cell_type": "markdown",
   "metadata": {},
   "source": [
    "___\n",
    "## C. MODELOS DE PREDIÇÃO"
   ]
  },
  {
   "cell_type": "markdown",
   "metadata": {
    "collapsed": true
   },
   "source": [
    "o MODELO DE PREDIÇÃO PELA MÉDIA (Sem uso de variável explicativa)."
   ]
  },
  {
   "cell_type": "markdown",
   "metadata": {},
   "source": [
    "**Separando a base de dados em treinamento e teste aleatoriamente**"
   ]
  },
  {
   "cell_type": "code",
   "execution_count": null,
   "metadata": {},
   "outputs": [],
   "source": []
  },
  {
   "cell_type": "code",
   "execution_count": null,
   "metadata": {},
   "outputs": [],
   "source": []
  },
  {
   "cell_type": "code",
   "execution_count": null,
   "metadata": {
    "scrolled": true
   },
   "outputs": [],
   "source": []
  },
  {
   "cell_type": "code",
   "execution_count": null,
   "metadata": {},
   "outputs": [],
   "source": []
  },
  {
   "cell_type": "code",
   "execution_count": null,
   "metadata": {},
   "outputs": [],
   "source": []
  },
  {
   "cell_type": "markdown",
   "metadata": {
    "collapsed": true
   },
   "source": [
    "o MODELO DOS K VIZINHOS MAIS PRÓXIMOS (K-Nearest Neighbors Regression)"
   ]
  },
  {
   "cell_type": "code",
   "execution_count": null,
   "metadata": {},
   "outputs": [],
   "source": []
  },
  {
   "cell_type": "code",
   "execution_count": null,
   "metadata": {},
   "outputs": [],
   "source": []
  },
  {
   "cell_type": "markdown",
   "metadata": {
    "collapsed": true
   },
   "source": [
    "o MODELO DE REGRESSÃO LINEAR (Multiple Linear Regression)"
   ]
  },
  {
   "cell_type": "code",
   "execution_count": null,
   "metadata": {},
   "outputs": [],
   "source": []
  },
  {
   "cell_type": "code",
   "execution_count": null,
   "metadata": {},
   "outputs": [],
   "source": []
  },
  {
   "cell_type": "code",
   "execution_count": null,
   "metadata": {},
   "outputs": [],
   "source": []
  },
  {
   "cell_type": "code",
   "execution_count": null,
   "metadata": {},
   "outputs": [],
   "source": []
  },
  {
   "cell_type": "code",
   "execution_count": null,
   "metadata": {},
   "outputs": [],
   "source": []
  },
  {
   "cell_type": "code",
   "execution_count": null,
   "metadata": {},
   "outputs": [],
   "source": []
  },
  {
   "cell_type": "markdown",
   "metadata": {
    "collapsed": true
   },
   "source": [
    "o MODELO DE ÁRVORES DE REGRESSÃO (Decision Tree Regression)"
   ]
  },
  {
   "cell_type": "code",
   "execution_count": null,
   "metadata": {},
   "outputs": [],
   "source": []
  },
  {
   "cell_type": "code",
   "execution_count": null,
   "metadata": {},
   "outputs": [],
   "source": []
  },
  {
   "cell_type": "markdown",
   "metadata": {
    "collapsed": true
   },
   "source": [
    "___\n",
    "## D. PROCESSO E ESTATÍSTICAS DE VALIDAÇÃO"
   ]
  },
  {
   "cell_type": "markdown",
   "metadata": {},
   "source": []
  },
  {
   "cell_type": "code",
   "execution_count": null,
   "metadata": {},
   "outputs": [],
   "source": []
  },
  {
   "cell_type": "code",
   "execution_count": null,
   "metadata": {},
   "outputs": [],
   "source": []
  },
  {
   "cell_type": "code",
   "execution_count": null,
   "metadata": {},
   "outputs": [],
   "source": []
  },
  {
   "cell_type": "markdown",
   "metadata": {},
   "source": [
    "___\n",
    "## E. CONCLUSÃO"
   ]
  },
  {
   "cell_type": "code",
   "execution_count": null,
   "metadata": {},
   "outputs": [],
   "source": []
  },
  {
   "cell_type": "code",
   "execution_count": null,
   "metadata": {},
   "outputs": [],
   "source": []
  },
  {
   "cell_type": "code",
   "execution_count": null,
   "metadata": {},
   "outputs": [],
   "source": []
  },
  {
   "cell_type": "code",
   "execution_count": null,
   "metadata": {},
   "outputs": [],
   "source": []
  },
  {
   "cell_type": "markdown",
   "metadata": {},
   "source": [
    "___\n",
    "## F. REFERÊNCIAS BIBLIOGRÁFICAS"
   ]
  },
  {
   "cell_type": "code",
   "execution_count": null,
   "metadata": {},
   "outputs": [],
   "source": []
  },
  {
   "cell_type": "code",
   "execution_count": null,
   "metadata": {},
   "outputs": [],
   "source": []
  },
  {
   "cell_type": "code",
   "execution_count": null,
   "metadata": {},
   "outputs": [],
   "source": []
  },
  {
   "cell_type": "code",
   "execution_count": null,
   "metadata": {},
   "outputs": [],
   "source": []
  }
 ],
 "metadata": {
  "anaconda-cloud": {},
  "kernelspec": {
   "display_name": "Python 3",
   "language": "python",
   "name": "python3"
  },
  "language_info": {
   "codemirror_mode": {
    "name": "ipython",
    "version": 3
   },
   "file_extension": ".py",
   "mimetype": "text/x-python",
   "name": "python",
   "nbconvert_exporter": "python",
   "pygments_lexer": "ipython3",
   "version": "3.7.0"
  }
 },
 "nbformat": 4,
 "nbformat_minor": 1
}
