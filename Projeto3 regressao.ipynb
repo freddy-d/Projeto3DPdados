{
 "cells": [
  {
   "cell_type": "markdown",
   "metadata": {},
   "source": [
    "___\n",
    "## Ciência dos Dados - PROJETO 3 - INSPER"
   ]
  },
  {
   "cell_type": "markdown",
   "metadata": {},
   "source": [
    "___\n",
    "#### Freddy Dratwa\n",
    "\n",
    "#### Victor Vazquez\n",
    "\n",
    "#### Michel Haggiag\n",
    "\n",
    "#### Allan Singer\n",
    "\n",
    "#### Ricardo Ferraro\n",
    "\n",
    "___"
   ]
  },
  {
   "cell_type": "markdown",
   "metadata": {},
   "source": [
    "# Estudo do preço do carro"
   ]
  },
  {
   "cell_type": "markdown",
   "metadata": {},
   "source": [
    "___\n",
    "\n",
    "## A. INTRODUÇÃO"
   ]
  },
  {
   "cell_type": "markdown",
   "metadata": {},
   "source": [
    "## https://www.kaggle.com/jpayne/852k-used-car-listings"
   ]
  },
  {
   "cell_type": "markdown",
   "metadata": {},
   "source": [
    "O objetivo deste projeto é chegar ao melhor modelo possível que seja capaz de prever o preço de um carro usado nos EUA a partir das características presentes no dataset:\n",
    "    - Preço;\n",
    "    - Ano;\n",
    "    - Quilometragem;\n",
    "    - Cidade;\n",
    "    - Estado;\n",
    "    - Marca;\n",
    "    - Modelo;\n",
    "    - Número de Chassis.\n",
    "\n",
    "A base de dados possui 1.2 milhão de carros com data de produção entre os anos 1997 a 2018 de 58 marcas diferentes, sendo estes 2914 modelos distintos com o preço mÍnimo de US1.500,00 e máximo de US462.000,00 , com a mínima quilometragem 8 Km e a máxima 2.286.260,8 Km.<br>\n",
    "\n",
    "Como uma primeira previsão, imagina-se que algumas das características do dataset influenciam mais no preço do carro do que outras. Por exemplo, é de se esperar que um carro comprado há mais tempo tenha seu preço menor atualmente. Ou seja, a variavel \"Ano\", que representa o ano em que o carro foi fabricado, deve influenciar muito no preço do veículo, bem como a quilometragem, onde um carro que foi comprado mas usado pouco deve permanecer mais barato do que um usado muitas vezes.<br>\n",
    "\n",
    "Pelo outro lado, imagina-se que a variável \"Cidade\", a qual representa a cidade onde o carro foi comprado, não tenha tanta influência no preço do veículo, a não ser que comparadas  duas cidades com condições muito diferentes. Por exemplo, como se tratam de cidades apenas nos EUA, imaina-se que em cidades no litoral, os carros se depreciem com velocidade maior, como consequência do fenômeno da Maresia.<br>"
   ]
  },
  {
   "cell_type": "markdown",
   "metadata": {},
   "source": [
    "___\n",
    "## B. MINERANDO DADOS e CARACTERÍSTICAS DO DATASET"
   ]
  },
  {
   "cell_type": "code",
   "execution_count": 1,
   "metadata": {},
   "outputs": [],
   "source": [
    "import pandas as pd\n",
    "import os\n",
    "import numpy as np\n",
    "import matplotlib.pyplot as plt\n",
    "import statsmodels.api as sm\n",
    "from sklearn import datasets, linear_model\n",
    "from sklearn.model_selection import train_test_split"
   ]
  },
  {
   "cell_type": "markdown",
   "metadata": {},
   "source": [
    "### BASE DE DADOS"
   ]
  },
  {
   "cell_type": "markdown",
   "metadata": {},
   "source": [
    "**Limpando e tratando dataset**\n",
    "\n",
    "Nas células abaixo, o dataset é limpo e reorganiazdo. Para se fazer isso, a coluna \"Chassi\" é removoida, pois esta é uma característica individual para cada veículo e não influencia no preço final do mesmo. Alem disso, duas colunas vazias foram reitradas. Então, a variável milhagem foi transformada em quilometragem, multplicando seu valor por 1.6. Por último, a variavel ano foi transformada em idade, ou seja, a diferença do ano atual (2019) para o ano em que o carro foi vendido. "
   ]
  },
  {
   "cell_type": "code",
   "execution_count": 2,
   "metadata": {},
   "outputs": [],
   "source": [
    "dataset = pd.read_csv(\"Dataframe.csv\")"
   ]
  },
  {
   "cell_type": "code",
   "execution_count": 3,
   "metadata": {},
   "outputs": [
    {
     "data": {
      "text/html": [
       "<div>\n",
       "<style scoped>\n",
       "    .dataframe tbody tr th:only-of-type {\n",
       "        vertical-align: middle;\n",
       "    }\n",
       "\n",
       "    .dataframe tbody tr th {\n",
       "        vertical-align: top;\n",
       "    }\n",
       "\n",
       "    .dataframe thead th {\n",
       "        text-align: right;\n",
       "    }\n",
       "</style>\n",
       "<table border=\"1\" class=\"dataframe\">\n",
       "  <thead>\n",
       "    <tr style=\"text-align: right;\">\n",
       "      <th></th>\n",
       "      <th>ID</th>\n",
       "      <th>PRECO</th>\n",
       "      <th>ANO</th>\n",
       "      <th>IDADE</th>\n",
       "      <th>KM</th>\n",
       "      <th>CIDADE</th>\n",
       "      <th>ESTADO</th>\n",
       "      <th>MARCA</th>\n",
       "      <th>MODELO</th>\n",
       "    </tr>\n",
       "  </thead>\n",
       "  <tbody>\n",
       "    <tr>\n",
       "      <th>0</th>\n",
       "      <td>79293.0</td>\n",
       "      <td>18684.0</td>\n",
       "      <td>2015.0</td>\n",
       "      <td>4.0</td>\n",
       "      <td>19998.4</td>\n",
       "      <td>OWENSBORO</td>\n",
       "      <td>KY</td>\n",
       "      <td>DODGE</td>\n",
       "      <td>JourneySXT</td>\n",
       "    </tr>\n",
       "    <tr>\n",
       "      <th>1</th>\n",
       "      <td>190834.0</td>\n",
       "      <td>26318.0</td>\n",
       "      <td>2016.0</td>\n",
       "      <td>3.0</td>\n",
       "      <td>13563.2</td>\n",
       "      <td>CORPUS CHRISTI</td>\n",
       "      <td>TX</td>\n",
       "      <td>BMW</td>\n",
       "      <td>3</td>\n",
       "    </tr>\n",
       "    <tr>\n",
       "      <th>2</th>\n",
       "      <td>670383.0</td>\n",
       "      <td>25802.0</td>\n",
       "      <td>2014.0</td>\n",
       "      <td>5.0</td>\n",
       "      <td>105404.8</td>\n",
       "      <td>PORT LAVACA</td>\n",
       "      <td>TX</td>\n",
       "      <td>FORD</td>\n",
       "      <td>ExplorerLimited</td>\n",
       "    </tr>\n",
       "    <tr>\n",
       "      <th>3</th>\n",
       "      <td>586732.0</td>\n",
       "      <td>9899.0</td>\n",
       "      <td>2005.0</td>\n",
       "      <td>14.0</td>\n",
       "      <td>173619.2</td>\n",
       "      <td>LINDON</td>\n",
       "      <td>UT</td>\n",
       "      <td>DODGE</td>\n",
       "      <td>Dakota4WD</td>\n",
       "    </tr>\n",
       "    <tr>\n",
       "      <th>4</th>\n",
       "      <td>37609.0</td>\n",
       "      <td>30999.0</td>\n",
       "      <td>2016.0</td>\n",
       "      <td>3.0</td>\n",
       "      <td>13372.8</td>\n",
       "      <td>FOND DU LAC</td>\n",
       "      <td>WI</td>\n",
       "      <td>FORD</td>\n",
       "      <td>MustangFastback</td>\n",
       "    </tr>\n",
       "  </tbody>\n",
       "</table>\n",
       "</div>"
      ],
      "text/plain": [
       "         ID    PRECO     ANO  IDADE        KM          CIDADE ESTADO  MARCA  \\\n",
       "0   79293.0  18684.0  2015.0    4.0   19998.4       OWENSBORO     KY  DODGE   \n",
       "1  190834.0  26318.0  2016.0    3.0   13563.2  CORPUS CHRISTI     TX    BMW   \n",
       "2  670383.0  25802.0  2014.0    5.0  105404.8     PORT LAVACA     TX   FORD   \n",
       "3  586732.0   9899.0  2005.0   14.0  173619.2          LINDON     UT  DODGE   \n",
       "4   37609.0  30999.0  2016.0    3.0   13372.8     FOND DU LAC     WI   FORD   \n",
       "\n",
       "            MODELO  \n",
       "0       JourneySXT  \n",
       "1                3  \n",
       "2  ExplorerLimited  \n",
       "3        Dakota4WD  \n",
       "4  MustangFastback  "
      ]
     },
     "execution_count": 3,
     "metadata": {},
     "output_type": "execute_result"
    }
   ],
   "source": [
    "if \"Vin\" in dataset:\n",
    "    dataset = dataset.drop(columns=[\"Vin\", \"Unnamed: 9\", \"Unnamed: 10\", \"Unnamed: 0\"])\n",
    "    dataset[\"Mileage\"] = dataset[\"Mileage\"].apply(lambda x: x*1.6)\n",
    "\n",
    "    dataset.columns = [\"ID\",\"PRECO\",\"ANO\",\"KM\",\"CIDADE\",\"ESTADO\",\"MARCA\",\"MODELO\"]\n",
    "    dataset[\"IDADE\"] = dataset[\"ANO\"].apply(lambda x: 2019-x)\n",
    "\n",
    "    dataset.ID = dataset.ID.astype(\"float\")\n",
    "    dataset.PRECO = dataset.PRECO.astype(\"float\")\n",
    "    dataset.ANO = dataset.ANO.astype(\"float\")\n",
    "    dataset.KM = dataset.KM.astype(\"float\")\n",
    "    dataset.IDADE = dataset.IDADE.astype(\"float\")\n",
    "    dataset.CIDADE = dataset.CIDADE.astype(\"category\")\n",
    "    dataset.ESTADO = dataset.ESTADO.astype(\"category\")\n",
    "    dataset.MARCA = dataset.MARCA.astype(\"category\")\n",
    "    dataset.MODELO = dataset.MODELO.astype(\"category\")\n",
    "\n",
    "    dataset[\"ESTADO\"] = dataset[\"ESTADO\"].apply(lambda x: x.upper())\n",
    "    dataset[\"CIDADE\"] = dataset[\"CIDADE\"].apply(lambda x: x.upper())\n",
    "    dataset[\"MARCA\"] = dataset[\"MARCA\"].apply(lambda x: x.upper())\n",
    "    dataset = dataset[[\"ID\",\"PRECO\",\"ANO\",\"IDADE\",\"KM\",\"CIDADE\",\"ESTADO\",\"MARCA\",\"MODELO\"]]\n",
    "    \n",
    "dataset.head()"
   ]
  },
  {
   "cell_type": "markdown",
   "metadata": {},
   "source": [
    "## ANÁLISE DESCRITIVA"
   ]
  },
  {
   "cell_type": "markdown",
   "metadata": {},
   "source": [
    "___\n",
    "## C. MODELOS DE PREDIÇÃO"
   ]
  },
  {
   "cell_type": "markdown",
   "metadata": {
    "collapsed": true
   },
   "source": [
    "o MODELO DE PREDIÇÃO PELA MÉDIA (Sem uso de variável explicativa)."
   ]
  },
  {
   "cell_type": "markdown",
   "metadata": {},
   "source": [
    "**Separando a base de dados em treinamento e teste aleatoriamente**"
   ]
  },
  {
   "cell_type": "code",
   "execution_count": null,
   "metadata": {},
   "outputs": [],
   "source": []
  },
  {
   "cell_type": "code",
   "execution_count": null,
   "metadata": {},
   "outputs": [],
   "source": []
  },
  {
   "cell_type": "code",
   "execution_count": null,
   "metadata": {
    "scrolled": true
   },
   "outputs": [],
   "source": []
  },
  {
   "cell_type": "code",
   "execution_count": null,
   "metadata": {},
   "outputs": [],
   "source": []
  },
  {
   "cell_type": "code",
   "execution_count": null,
   "metadata": {},
   "outputs": [],
   "source": []
  },
  {
   "cell_type": "markdown",
   "metadata": {
    "collapsed": true
   },
   "source": [
    "o MODELO DOS K VIZINHOS MAIS PRÓXIMOS (K-Nearest Neighbors Regression)"
   ]
  },
  {
   "cell_type": "code",
   "execution_count": null,
   "metadata": {},
   "outputs": [],
   "source": []
  },
  {
   "cell_type": "code",
   "execution_count": null,
   "metadata": {},
   "outputs": [],
   "source": []
  },
  {
   "cell_type": "markdown",
   "metadata": {
    "collapsed": true
   },
   "source": [
    "o MODELO DE REGRESSÃO LINEAR (Multiple Linear Regression)"
   ]
  },
  {
   "cell_type": "code",
   "execution_count": 4,
   "metadata": {},
   "outputs": [],
   "source": [
    "def dummify(data, column_name):\n",
    "    return pd.get_dummies(data[column_name],drop_first = False, prefix = column_name)\n",
    "\n",
    "def regress(X,Y):\n",
    "    X_cp = sm.add_constant(X)\n",
    "    model = sm.OLS(Y,X_cp)\n",
    "    results = model.fit()\n",
    "    ypred = results.predict(X_cp)\n",
    "    return results, ypred"
   ]
  },
  {
   "cell_type": "code",
   "execution_count": 5,
   "metadata": {},
   "outputs": [],
   "source": [
    "final = pd.concat([dummify(dataset, \"ESTADO\").dropna(), dummify(dataset, \"MODELO\").dropna(), dummify(dataset, \"MARCA\").dropna()], axis=1)"
   ]
  },
  {
   "cell_type": "code",
   "execution_count": 6,
   "metadata": {},
   "outputs": [
    {
     "data": {
      "text/html": [
       "<div>\n",
       "<style scoped>\n",
       "    .dataframe tbody tr th:only-of-type {\n",
       "        vertical-align: middle;\n",
       "    }\n",
       "\n",
       "    .dataframe tbody tr th {\n",
       "        vertical-align: top;\n",
       "    }\n",
       "\n",
       "    .dataframe thead th {\n",
       "        text-align: right;\n",
       "    }\n",
       "</style>\n",
       "<table border=\"1\" class=\"dataframe\">\n",
       "  <thead>\n",
       "    <tr style=\"text-align: right;\">\n",
       "      <th></th>\n",
       "      <th>ID</th>\n",
       "      <th>PRECO</th>\n",
       "      <th>ANO</th>\n",
       "      <th>IDADE</th>\n",
       "      <th>KM</th>\n",
       "      <th>CIDADE</th>\n",
       "      <th>ESTADO</th>\n",
       "      <th>MARCA</th>\n",
       "      <th>MODELO</th>\n",
       "    </tr>\n",
       "  </thead>\n",
       "  <tbody>\n",
       "    <tr>\n",
       "      <th>0</th>\n",
       "      <td>79293.0</td>\n",
       "      <td>18684.0</td>\n",
       "      <td>2015.0</td>\n",
       "      <td>4.0</td>\n",
       "      <td>19998.4</td>\n",
       "      <td>OWENSBORO</td>\n",
       "      <td>KY</td>\n",
       "      <td>DODGE</td>\n",
       "      <td>JourneySXT</td>\n",
       "    </tr>\n",
       "    <tr>\n",
       "      <th>1</th>\n",
       "      <td>190834.0</td>\n",
       "      <td>26318.0</td>\n",
       "      <td>2016.0</td>\n",
       "      <td>3.0</td>\n",
       "      <td>13563.2</td>\n",
       "      <td>CORPUS CHRISTI</td>\n",
       "      <td>TX</td>\n",
       "      <td>BMW</td>\n",
       "      <td>3</td>\n",
       "    </tr>\n",
       "    <tr>\n",
       "      <th>2</th>\n",
       "      <td>670383.0</td>\n",
       "      <td>25802.0</td>\n",
       "      <td>2014.0</td>\n",
       "      <td>5.0</td>\n",
       "      <td>105404.8</td>\n",
       "      <td>PORT LAVACA</td>\n",
       "      <td>TX</td>\n",
       "      <td>FORD</td>\n",
       "      <td>ExplorerLimited</td>\n",
       "    </tr>\n",
       "    <tr>\n",
       "      <th>3</th>\n",
       "      <td>586732.0</td>\n",
       "      <td>9899.0</td>\n",
       "      <td>2005.0</td>\n",
       "      <td>14.0</td>\n",
       "      <td>173619.2</td>\n",
       "      <td>LINDON</td>\n",
       "      <td>UT</td>\n",
       "      <td>DODGE</td>\n",
       "      <td>Dakota4WD</td>\n",
       "    </tr>\n",
       "    <tr>\n",
       "      <th>4</th>\n",
       "      <td>37609.0</td>\n",
       "      <td>30999.0</td>\n",
       "      <td>2016.0</td>\n",
       "      <td>3.0</td>\n",
       "      <td>13372.8</td>\n",
       "      <td>FOND DU LAC</td>\n",
       "      <td>WI</td>\n",
       "      <td>FORD</td>\n",
       "      <td>MustangFastback</td>\n",
       "    </tr>\n",
       "  </tbody>\n",
       "</table>\n",
       "</div>"
      ],
      "text/plain": [
       "         ID    PRECO     ANO  IDADE        KM          CIDADE ESTADO  MARCA  \\\n",
       "0   79293.0  18684.0  2015.0    4.0   19998.4       OWENSBORO     KY  DODGE   \n",
       "1  190834.0  26318.0  2016.0    3.0   13563.2  CORPUS CHRISTI     TX    BMW   \n",
       "2  670383.0  25802.0  2014.0    5.0  105404.8     PORT LAVACA     TX   FORD   \n",
       "3  586732.0   9899.0  2005.0   14.0  173619.2          LINDON     UT  DODGE   \n",
       "4   37609.0  30999.0  2016.0    3.0   13372.8     FOND DU LAC     WI   FORD   \n",
       "\n",
       "            MODELO  \n",
       "0       JourneySXT  \n",
       "1                3  \n",
       "2  ExplorerLimited  \n",
       "3        Dakota4WD  \n",
       "4  MustangFastback  "
      ]
     },
     "execution_count": 6,
     "metadata": {},
     "output_type": "execute_result"
    }
   ],
   "source": [
    "dataset.head()"
   ]
  },
  {
   "cell_type": "code",
   "execution_count": 7,
   "metadata": {},
   "outputs": [
    {
     "data": {
      "text/html": [
       "<div>\n",
       "<style scoped>\n",
       "    .dataframe tbody tr th:only-of-type {\n",
       "        vertical-align: middle;\n",
       "    }\n",
       "\n",
       "    .dataframe tbody tr th {\n",
       "        vertical-align: top;\n",
       "    }\n",
       "\n",
       "    .dataframe thead th {\n",
       "        text-align: right;\n",
       "    }\n",
       "</style>\n",
       "<table border=\"1\" class=\"dataframe\">\n",
       "  <thead>\n",
       "    <tr style=\"text-align: right;\">\n",
       "      <th></th>\n",
       "      <th>PRECO</th>\n",
       "      <th>IDADE</th>\n",
       "      <th>KM</th>\n",
       "      <th>ESTADO_ AK</th>\n",
       "      <th>ESTADO_ AL</th>\n",
       "      <th>ESTADO_ AR</th>\n",
       "      <th>ESTADO_ AZ</th>\n",
       "      <th>ESTADO_ CA</th>\n",
       "      <th>ESTADO_ CO</th>\n",
       "      <th>ESTADO_ CT</th>\n",
       "      <th>...</th>\n",
       "      <th>MARCA_SAAB</th>\n",
       "      <th>MARCA_SATURN</th>\n",
       "      <th>MARCA_SCION</th>\n",
       "      <th>MARCA_SUBARU</th>\n",
       "      <th>MARCA_SUZUKI</th>\n",
       "      <th>MARCA_TESLA</th>\n",
       "      <th>MARCA_TOYOTA</th>\n",
       "      <th>MARCA_VOLKSWAGEN</th>\n",
       "      <th>MARCA_VOLVO</th>\n",
       "      <th>MARCA_SMART</th>\n",
       "    </tr>\n",
       "  </thead>\n",
       "  <tbody>\n",
       "    <tr>\n",
       "      <th>0</th>\n",
       "      <td>18684.0</td>\n",
       "      <td>4.0</td>\n",
       "      <td>19998.4</td>\n",
       "      <td>0</td>\n",
       "      <td>0</td>\n",
       "      <td>0</td>\n",
       "      <td>0</td>\n",
       "      <td>0</td>\n",
       "      <td>0</td>\n",
       "      <td>0</td>\n",
       "      <td>...</td>\n",
       "      <td>0</td>\n",
       "      <td>0</td>\n",
       "      <td>0</td>\n",
       "      <td>0</td>\n",
       "      <td>0</td>\n",
       "      <td>0</td>\n",
       "      <td>0</td>\n",
       "      <td>0</td>\n",
       "      <td>0</td>\n",
       "      <td>0</td>\n",
       "    </tr>\n",
       "    <tr>\n",
       "      <th>1</th>\n",
       "      <td>26318.0</td>\n",
       "      <td>3.0</td>\n",
       "      <td>13563.2</td>\n",
       "      <td>0</td>\n",
       "      <td>0</td>\n",
       "      <td>0</td>\n",
       "      <td>0</td>\n",
       "      <td>0</td>\n",
       "      <td>0</td>\n",
       "      <td>0</td>\n",
       "      <td>...</td>\n",
       "      <td>0</td>\n",
       "      <td>0</td>\n",
       "      <td>0</td>\n",
       "      <td>0</td>\n",
       "      <td>0</td>\n",
       "      <td>0</td>\n",
       "      <td>0</td>\n",
       "      <td>0</td>\n",
       "      <td>0</td>\n",
       "      <td>0</td>\n",
       "    </tr>\n",
       "    <tr>\n",
       "      <th>2</th>\n",
       "      <td>25802.0</td>\n",
       "      <td>5.0</td>\n",
       "      <td>105404.8</td>\n",
       "      <td>0</td>\n",
       "      <td>0</td>\n",
       "      <td>0</td>\n",
       "      <td>0</td>\n",
       "      <td>0</td>\n",
       "      <td>0</td>\n",
       "      <td>0</td>\n",
       "      <td>...</td>\n",
       "      <td>0</td>\n",
       "      <td>0</td>\n",
       "      <td>0</td>\n",
       "      <td>0</td>\n",
       "      <td>0</td>\n",
       "      <td>0</td>\n",
       "      <td>0</td>\n",
       "      <td>0</td>\n",
       "      <td>0</td>\n",
       "      <td>0</td>\n",
       "    </tr>\n",
       "    <tr>\n",
       "      <th>3</th>\n",
       "      <td>9899.0</td>\n",
       "      <td>14.0</td>\n",
       "      <td>173619.2</td>\n",
       "      <td>0</td>\n",
       "      <td>0</td>\n",
       "      <td>0</td>\n",
       "      <td>0</td>\n",
       "      <td>0</td>\n",
       "      <td>0</td>\n",
       "      <td>0</td>\n",
       "      <td>...</td>\n",
       "      <td>0</td>\n",
       "      <td>0</td>\n",
       "      <td>0</td>\n",
       "      <td>0</td>\n",
       "      <td>0</td>\n",
       "      <td>0</td>\n",
       "      <td>0</td>\n",
       "      <td>0</td>\n",
       "      <td>0</td>\n",
       "      <td>0</td>\n",
       "    </tr>\n",
       "    <tr>\n",
       "      <th>4</th>\n",
       "      <td>30999.0</td>\n",
       "      <td>3.0</td>\n",
       "      <td>13372.8</td>\n",
       "      <td>0</td>\n",
       "      <td>0</td>\n",
       "      <td>0</td>\n",
       "      <td>0</td>\n",
       "      <td>0</td>\n",
       "      <td>0</td>\n",
       "      <td>0</td>\n",
       "      <td>...</td>\n",
       "      <td>0</td>\n",
       "      <td>0</td>\n",
       "      <td>0</td>\n",
       "      <td>0</td>\n",
       "      <td>0</td>\n",
       "      <td>0</td>\n",
       "      <td>0</td>\n",
       "      <td>0</td>\n",
       "      <td>0</td>\n",
       "      <td>0</td>\n",
       "    </tr>\n",
       "  </tbody>\n",
       "</table>\n",
       "<p>5 rows × 2221 columns</p>\n",
       "</div>"
      ],
      "text/plain": [
       "     PRECO  IDADE        KM  ESTADO_ AK  ESTADO_ AL  ESTADO_ AR  ESTADO_ AZ  \\\n",
       "0  18684.0    4.0   19998.4           0           0           0           0   \n",
       "1  26318.0    3.0   13563.2           0           0           0           0   \n",
       "2  25802.0    5.0  105404.8           0           0           0           0   \n",
       "3   9899.0   14.0  173619.2           0           0           0           0   \n",
       "4  30999.0    3.0   13372.8           0           0           0           0   \n",
       "\n",
       "   ESTADO_ CA  ESTADO_ CO  ESTADO_ CT     ...       MARCA_SAAB  MARCA_SATURN  \\\n",
       "0           0           0           0     ...                0             0   \n",
       "1           0           0           0     ...                0             0   \n",
       "2           0           0           0     ...                0             0   \n",
       "3           0           0           0     ...                0             0   \n",
       "4           0           0           0     ...                0             0   \n",
       "\n",
       "   MARCA_SCION  MARCA_SUBARU  MARCA_SUZUKI  MARCA_TESLA  MARCA_TOYOTA  \\\n",
       "0            0             0             0            0             0   \n",
       "1            0             0             0            0             0   \n",
       "2            0             0             0            0             0   \n",
       "3            0             0             0            0             0   \n",
       "4            0             0             0            0             0   \n",
       "\n",
       "   MARCA_VOLKSWAGEN  MARCA_VOLVO  MARCA_SMART  \n",
       "0                 0            0            0  \n",
       "1                 0            0            0  \n",
       "2                 0            0            0  \n",
       "3                 0            0            0  \n",
       "4                 0            0            0  \n",
       "\n",
       "[5 rows x 2221 columns]"
      ]
     },
     "execution_count": 7,
     "metadata": {},
     "output_type": "execute_result"
    }
   ],
   "source": [
    "dt = dataset\n",
    "dt = dt.drop(columns = [\"ID\", \"ANO\", \"CIDADE\", \"ESTADO\", \"MARCA\", \"MODELO\"])\n",
    "final = pd.concat([dt, final], axis = 1)\n",
    "final.head()"
   ]
  },
  {
   "cell_type": "code",
   "execution_count": 8,
   "metadata": {},
   "outputs": [],
   "source": [
    "# np.delete(final.columns.values, 0)"
   ]
  },
  {
   "cell_type": "code",
   "execution_count": 9,
   "metadata": {},
   "outputs": [],
   "source": [
    "df = final\n",
    "\n",
    "x = df[np.delete(df.columns.values, 0)]\n",
    "y = df[[\"PRECO\"]]\n",
    "\n",
    "results = regress(x,y)\n",
    "\n",
    "dataresultados = pd.read_html(results[0].summary().tables[1].as_html(), header=0, index_col=0)[0]"
   ]
  },
  {
   "cell_type": "code",
   "execution_count": 69,
   "metadata": {},
   "outputs": [
    {
     "data": {
      "text/html": [
       "<div>\n",
       "<style scoped>\n",
       "    .dataframe tbody tr th:only-of-type {\n",
       "        vertical-align: middle;\n",
       "    }\n",
       "\n",
       "    .dataframe tbody tr th {\n",
       "        vertical-align: top;\n",
       "    }\n",
       "\n",
       "    .dataframe thead th {\n",
       "        text-align: right;\n",
       "    }\n",
       "</style>\n",
       "<table border=\"1\" class=\"dataframe\">\n",
       "  <thead>\n",
       "    <tr style=\"text-align: right;\">\n",
       "      <th></th>\n",
       "      <th>coef</th>\n",
       "      <th>std err</th>\n",
       "      <th>t</th>\n",
       "      <th>P&gt;|t|</th>\n",
       "      <th>[0.025</th>\n",
       "      <th>0.975]</th>\n",
       "    </tr>\n",
       "  </thead>\n",
       "  <tbody>\n",
       "    <tr>\n",
       "      <th>const</th>\n",
       "      <td>51150.0000</td>\n",
       "      <td>249.667</td>\n",
       "      <td>204.860</td>\n",
       "      <td>0.000</td>\n",
       "      <td>50700.000</td>\n",
       "      <td>51600.000</td>\n",
       "    </tr>\n",
       "    <tr>\n",
       "      <th>IDADE</th>\n",
       "      <td>-1460.8541</td>\n",
       "      <td>9.277</td>\n",
       "      <td>-157.467</td>\n",
       "      <td>0.000</td>\n",
       "      <td>-1479.037</td>\n",
       "      <td>-1442.671</td>\n",
       "    </tr>\n",
       "    <tr>\n",
       "      <th>KM</th>\n",
       "      <td>-0.0421</td>\n",
       "      <td>0.000</td>\n",
       "      <td>-105.780</td>\n",
       "      <td>0.000</td>\n",
       "      <td>-0.043</td>\n",
       "      <td>-0.041</td>\n",
       "    </tr>\n",
       "    <tr>\n",
       "      <th>ESTADO_ AK</th>\n",
       "      <td>968.7678</td>\n",
       "      <td>392.679</td>\n",
       "      <td>2.467</td>\n",
       "      <td>0.014</td>\n",
       "      <td>199.122</td>\n",
       "      <td>1738.413</td>\n",
       "    </tr>\n",
       "    <tr>\n",
       "      <th>ESTADO_ AL</th>\n",
       "      <td>1191.2529</td>\n",
       "      <td>158.574</td>\n",
       "      <td>7.512</td>\n",
       "      <td>0.000</td>\n",
       "      <td>880.449</td>\n",
       "      <td>1502.056</td>\n",
       "    </tr>\n",
       "    <tr>\n",
       "      <th>ESTADO_ AR</th>\n",
       "      <td>1419.0408</td>\n",
       "      <td>200.383</td>\n",
       "      <td>7.082</td>\n",
       "      <td>0.000</td>\n",
       "      <td>1026.292</td>\n",
       "      <td>1811.790</td>\n",
       "    </tr>\n",
       "    <tr>\n",
       "      <th>ESTADO_ AZ</th>\n",
       "      <td>509.2999</td>\n",
       "      <td>135.975</td>\n",
       "      <td>3.746</td>\n",
       "      <td>0.000</td>\n",
       "      <td>242.790</td>\n",
       "      <td>775.810</td>\n",
       "    </tr>\n",
       "    <tr>\n",
       "      <th>ESTADO_ CA</th>\n",
       "      <td>651.7257</td>\n",
       "      <td>111.814</td>\n",
       "      <td>5.829</td>\n",
       "      <td>0.000</td>\n",
       "      <td>432.571</td>\n",
       "      <td>870.881</td>\n",
       "    </tr>\n",
       "    <tr>\n",
       "      <th>ESTADO_ CO</th>\n",
       "      <td>1161.6658</td>\n",
       "      <td>138.378</td>\n",
       "      <td>8.395</td>\n",
       "      <td>0.000</td>\n",
       "      <td>890.447</td>\n",
       "      <td>1432.884</td>\n",
       "    </tr>\n",
       "    <tr>\n",
       "      <th>ESTADO_ CT</th>\n",
       "      <td>37.2413</td>\n",
       "      <td>175.323</td>\n",
       "      <td>0.212</td>\n",
       "      <td>0.832</td>\n",
       "      <td>-306.390</td>\n",
       "      <td>380.872</td>\n",
       "    </tr>\n",
       "  </tbody>\n",
       "</table>\n",
       "</div>"
      ],
      "text/plain": [
       "                  coef  std err        t  P>|t|     [0.025     0.975]\n",
       "const       51150.0000  249.667  204.860  0.000  50700.000  51600.000\n",
       "IDADE       -1460.8541    9.277 -157.467  0.000  -1479.037  -1442.671\n",
       "KM             -0.0421    0.000 -105.780  0.000     -0.043     -0.041\n",
       "ESTADO_ AK    968.7678  392.679    2.467  0.014    199.122   1738.413\n",
       "ESTADO_ AL   1191.2529  158.574    7.512  0.000    880.449   1502.056\n",
       "ESTADO_ AR   1419.0408  200.383    7.082  0.000   1026.292   1811.790\n",
       "ESTADO_ AZ    509.2999  135.975    3.746  0.000    242.790    775.810\n",
       "ESTADO_ CA    651.7257  111.814    5.829  0.000    432.571    870.881\n",
       "ESTADO_ CO   1161.6658  138.378    8.395  0.000    890.447   1432.884\n",
       "ESTADO_ CT     37.2413  175.323    0.212  0.832   -306.390    380.872"
      ]
     },
     "execution_count": 69,
     "metadata": {},
     "output_type": "execute_result"
    }
   ],
   "source": [
    "dataresultados.head(10)"
   ]
  },
  {
   "cell_type": "code",
   "execution_count": null,
   "metadata": {},
   "outputs": [],
   "source": [
    "df = final\n",
    "for i in range(5):\n",
    "    df.drop(columns = dataresultados.loc[(dataresultados[\"P>|t|\"] > 0.10)].index)\n",
    "    x = df[np.delete(df.columns.values, 0)]\n",
    "    y = df[[\"PRECO\"]]\n",
    "\n",
    "    results = regress(x,y)\n",
    "\n",
    "    dataresultados = pd.read_html(results[0].summary().tables[1].as_html(), header=0, index_col=0)[0]\n",
    "    \n",
    "quanti = 0\n",
    "for i in dataresultados[\"P>|t|\"]:\n",
    "    if i > 0.10:\n",
    "        quanti+=1\n",
    "print(quanti)"
   ]
  },
  {
   "cell_type": "code",
   "execution_count": null,
   "metadata": {},
   "outputs": [],
   "source": []
  },
  {
   "cell_type": "markdown",
   "metadata": {
    "collapsed": true
   },
   "source": [
    "o MODELO DE ÁRVORES DE REGRESSÃO (Decision Tree Regression)"
   ]
  },
  {
   "cell_type": "code",
   "execution_count": null,
   "metadata": {},
   "outputs": [],
   "source": []
  },
  {
   "cell_type": "code",
   "execution_count": null,
   "metadata": {},
   "outputs": [],
   "source": []
  },
  {
   "cell_type": "markdown",
   "metadata": {
    "collapsed": true
   },
   "source": [
    "___\n",
    "## D. PROCESSO E ESTATÍSTICAS DE VALIDAÇÃO"
   ]
  },
  {
   "cell_type": "markdown",
   "metadata": {},
   "source": []
  },
  {
   "cell_type": "code",
   "execution_count": null,
   "metadata": {},
   "outputs": [],
   "source": []
  },
  {
   "cell_type": "code",
   "execution_count": null,
   "metadata": {},
   "outputs": [],
   "source": []
  },
  {
   "cell_type": "code",
   "execution_count": null,
   "metadata": {},
   "outputs": [],
   "source": []
  },
  {
   "cell_type": "markdown",
   "metadata": {},
   "source": [
    "___\n",
    "## E. CONCLUSÃO"
   ]
  },
  {
   "cell_type": "code",
   "execution_count": null,
   "metadata": {},
   "outputs": [],
   "source": []
  },
  {
   "cell_type": "code",
   "execution_count": null,
   "metadata": {},
   "outputs": [],
   "source": []
  },
  {
   "cell_type": "code",
   "execution_count": null,
   "metadata": {},
   "outputs": [],
   "source": []
  },
  {
   "cell_type": "code",
   "execution_count": null,
   "metadata": {},
   "outputs": [],
   "source": []
  },
  {
   "cell_type": "markdown",
   "metadata": {},
   "source": [
    "___\n",
    "## F. REFERÊNCIAS BIBLIOGRÁFICAS"
   ]
  },
  {
   "cell_type": "code",
   "execution_count": null,
   "metadata": {},
   "outputs": [],
   "source": []
  },
  {
   "cell_type": "code",
   "execution_count": null,
   "metadata": {},
   "outputs": [],
   "source": []
  },
  {
   "cell_type": "code",
   "execution_count": null,
   "metadata": {},
   "outputs": [],
   "source": []
  },
  {
   "cell_type": "code",
   "execution_count": null,
   "metadata": {},
   "outputs": [],
   "source": []
  }
 ],
 "metadata": {
  "anaconda-cloud": {},
  "kernelspec": {
   "display_name": "Python 3",
   "language": "python",
   "name": "python3"
  },
  "language_info": {
   "codemirror_mode": {
    "name": "ipython",
    "version": 3
   },
   "file_extension": ".py",
   "mimetype": "text/x-python",
   "name": "python",
   "nbconvert_exporter": "python",
   "pygments_lexer": "ipython3",
   "version": "3.7.0"
  }
 },
 "nbformat": 4,
 "nbformat_minor": 1
}
