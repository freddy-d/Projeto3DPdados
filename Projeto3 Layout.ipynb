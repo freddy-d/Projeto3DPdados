{
 "cells": [
  {
   "cell_type": "markdown",
   "metadata": {},
   "source": [
    "___\n",
    "## Ciência dos Dados - PROJETO 3 - INSPER"
   ]
  },
  {
   "cell_type": "markdown",
   "metadata": {},
   "source": [
    "___\n",
    "#### Freddy Dratwa\n",
    "\n",
    "#### Victor Vazquez\n",
    "\n",
    "#### Michel Haggiag\n",
    "\n",
    "#### Allan Singer\n",
    "\n",
    "#### Ricardo Ferraro\n",
    "\n",
    "___"
   ]
  },
  {
   "cell_type": "markdown",
   "metadata": {},
   "source": [
    "# TEMA AQUI"
   ]
  },
  {
   "cell_type": "markdown",
   "metadata": {},
   "source": [
    "___\n",
    "\n",
    "## A. INTRODUÇÃO"
   ]
  },
  {
   "cell_type": "markdown",
   "metadata": {},
   "source": [
    "## https://www.kaggle.com/jpayne/852k-used-car-listings\n",
    "## https://scikit-learn.org/stable/tutorial/machine_learning_map/index.html"
   ]
  },
  {
   "cell_type": "markdown",
   "metadata": {},
   "source": [
    "[Detalhe aqui o objetivo deste projeto!!]"
   ]
  },
  {
   "cell_type": "markdown",
   "metadata": {},
   "source": [
    "___\n",
    "## B. MINERANDO DADOS e CARACTERÍSTICAS DO DATASET"
   ]
  },
  {
   "cell_type": "markdown",
   "metadata": {},
   "source": [
    "[Detalhe aqui as características da base de dados além da análise descritiva.]"
   ]
  },
  {
   "cell_type": "code",
   "execution_count": 1,
   "metadata": {},
   "outputs": [],
   "source": [
    "import pandas as pd\n",
    "import os\n",
    "import numpy as np\n",
    "import matplotlib.pyplot as plt"
   ]
  },
  {
   "cell_type": "markdown",
   "metadata": {},
   "source": [
    "### BASE DE DADOS"
   ]
  },
  {
   "cell_type": "code",
   "execution_count": 2,
   "metadata": {},
   "outputs": [],
   "source": [
    "dataset = pd.read_csv(\"Dataframe.csv\")"
   ]
  },
  {
   "cell_type": "code",
   "execution_count": 3,
   "metadata": {},
   "outputs": [
    {
     "data": {
      "text/html": [
       "<div>\n",
       "<style scoped>\n",
       "    .dataframe tbody tr th:only-of-type {\n",
       "        vertical-align: middle;\n",
       "    }\n",
       "\n",
       "    .dataframe tbody tr th {\n",
       "        vertical-align: top;\n",
       "    }\n",
       "\n",
       "    .dataframe thead th {\n",
       "        text-align: right;\n",
       "    }\n",
       "</style>\n",
       "<table border=\"1\" class=\"dataframe\">\n",
       "  <thead>\n",
       "    <tr style=\"text-align: right;\">\n",
       "      <th></th>\n",
       "      <th>ID</th>\n",
       "      <th>PRECO</th>\n",
       "      <th>ANO</th>\n",
       "      <th>KM</th>\n",
       "      <th>CIDADE</th>\n",
       "      <th>ESTADO</th>\n",
       "      <th>MARCA</th>\n",
       "      <th>MODELO</th>\n",
       "    </tr>\n",
       "  </thead>\n",
       "  <tbody>\n",
       "    <tr>\n",
       "      <th>0</th>\n",
       "      <td>71314.0</td>\n",
       "      <td>30865.0</td>\n",
       "      <td>2015.0</td>\n",
       "      <td>31798.4</td>\n",
       "      <td>SALINAS</td>\n",
       "      <td>CA</td>\n",
       "      <td>DODGE</td>\n",
       "      <td>DURANGOAWD</td>\n",
       "    </tr>\n",
       "    <tr>\n",
       "      <th>1</th>\n",
       "      <td>550011.0</td>\n",
       "      <td>16492.0</td>\n",
       "      <td>2015.0</td>\n",
       "      <td>48518.4</td>\n",
       "      <td>CLIVE</td>\n",
       "      <td>IA</td>\n",
       "      <td>CHRYSLER</td>\n",
       "      <td>200C</td>\n",
       "    </tr>\n",
       "    <tr>\n",
       "      <th>2</th>\n",
       "      <td>333281.0</td>\n",
       "      <td>20994.0</td>\n",
       "      <td>2014.0</td>\n",
       "      <td>31390.4</td>\n",
       "      <td>SINKING SPRING</td>\n",
       "      <td>PA</td>\n",
       "      <td>TOYOTA</td>\n",
       "      <td>RAV44X4</td>\n",
       "    </tr>\n",
       "    <tr>\n",
       "      <th>3</th>\n",
       "      <td>140986.0</td>\n",
       "      <td>29588.0</td>\n",
       "      <td>2014.0</td>\n",
       "      <td>36539.2</td>\n",
       "      <td>SARASOTA</td>\n",
       "      <td>FL</td>\n",
       "      <td>CADILLAC</td>\n",
       "      <td>SRXLUXURY</td>\n",
       "    </tr>\n",
       "    <tr>\n",
       "      <th>4</th>\n",
       "      <td>415607.0</td>\n",
       "      <td>14980.0</td>\n",
       "      <td>2010.0</td>\n",
       "      <td>37772.8</td>\n",
       "      <td>SPRINGFIELD</td>\n",
       "      <td>PA</td>\n",
       "      <td>BUICK</td>\n",
       "      <td>LACROSSE4DR</td>\n",
       "    </tr>\n",
       "  </tbody>\n",
       "</table>\n",
       "</div>"
      ],
      "text/plain": [
       "         ID    PRECO     ANO       KM          CIDADE ESTADO     MARCA  \\\n",
       "0   71314.0  30865.0  2015.0  31798.4         SALINAS     CA     DODGE   \n",
       "1  550011.0  16492.0  2015.0  48518.4           CLIVE     IA  CHRYSLER   \n",
       "2  333281.0  20994.0  2014.0  31390.4  SINKING SPRING     PA    TOYOTA   \n",
       "3  140986.0  29588.0  2014.0  36539.2        SARASOTA     FL  CADILLAC   \n",
       "4  415607.0  14980.0  2010.0  37772.8     SPRINGFIELD     PA     BUICK   \n",
       "\n",
       "        MODELO  \n",
       "0   DURANGOAWD  \n",
       "1         200C  \n",
       "2      RAV44X4  \n",
       "3    SRXLUXURY  \n",
       "4  LACROSSE4DR  "
      ]
     },
     "execution_count": 3,
     "metadata": {},
     "output_type": "execute_result"
    }
   ],
   "source": [
    "#  Limpado e tratando dataset\n",
    "if \"Unnamed: 10\" in dataset and \"Unnamed: 9\" in dataset and \"Vin\" in dataset:\n",
    "    dataset = dataset.drop(columns=[\"Vin\",\"Unnamed: 9\", \"Unnamed: 10\", \"Unnamed: 0\"])\n",
    "    dataset[\"Mileage\"] = dataset[\"Mileage\"].apply(lambda x: x*1.6)\n",
    "    dataset.columns = [\"ID\",\"PRECO\",\"ANO\",\"KM\",\"CIDADE\",\"ESTADO\",\"MARCA\",\"MODELO\"]\n",
    "    \n",
    "dataset[\"ESTADO\"] = dataset[\"ESTADO\"].apply(lambda x: x.upper())\n",
    "dataset[\"CIDADE\"] = dataset[\"CIDADE\"].apply(lambda x: x.upper())\n",
    "dataset[\"MARCA\"] = dataset[\"MARCA\"].apply(lambda x: x.upper())\n",
    "dataset[\"MODELO\"] = dataset[\"MODELO\"].apply(lambda x: x.upper())\n",
    "\n",
    "dataset.head()"
   ]
  },
  {
   "cell_type": "code",
   "execution_count": 4,
   "metadata": {},
   "outputs": [
    {
     "data": {
      "image/png": "[encoded data removed]",
      "text/plain": [
       "<Figure size 432x288 with 1 Axes>"
      ]
     },
     "metadata": {
      "needs_background": "light"
     },
     "output_type": "display_data"
    }
   ],
   "source": [
    "# dataset[\"ESTADO\"].value_counts()\n",
    "dataset[\"KM\"].max()\n",
    "\n",
    "dataset[\"KM\"].plot.box()\n",
    "plt.show()"
   ]
  },
  {
   "cell_type": "markdown",
   "metadata": {},
   "source": [
    "### ANÁLISE DESCRITIVA"
   ]
  },
  {
   "cell_type": "code",
   "execution_count": null,
   "metadata": {},
   "outputs": [],
   "source": []
  },
  {
   "cell_type": "code",
   "execution_count": null,
   "metadata": {},
   "outputs": [],
   "source": []
  },
  {
   "cell_type": "code",
   "execution_count": null,
   "metadata": {},
   "outputs": [],
   "source": []
  },
  {
   "cell_type": "code",
   "execution_count": null,
   "metadata": {},
   "outputs": [],
   "source": []
  },
  {
   "cell_type": "markdown",
   "metadata": {},
   "source": [
    "___\n",
    "## C. MODELOS DE PREDIÇÃO"
   ]
  },
  {
   "cell_type": "markdown",
   "metadata": {
    "collapsed": true
   },
   "source": [
    "o MODELO DE PREDIÇÃO PELA MÉDIA (Sem uso de variável explicativa)."
   ]
  },
  {
   "cell_type": "code",
   "execution_count": null,
   "metadata": {},
   "outputs": [],
   "source": []
  },
  {
   "cell_type": "code",
   "execution_count": null,
   "metadata": {},
   "outputs": [],
   "source": []
  },
  {
   "cell_type": "markdown",
   "metadata": {
    "collapsed": true
   },
   "source": [
    "o MODELO DOS K VIZINHOS MAIS PRÓXIMOS (K-Nearest Neighbors Regression)"
   ]
  },
  {
   "cell_type": "code",
   "execution_count": null,
   "metadata": {},
   "outputs": [],
   "source": []
  },
  {
   "cell_type": "code",
   "execution_count": null,
   "metadata": {},
   "outputs": [],
   "source": []
  },
  {
   "cell_type": "markdown",
   "metadata": {
    "collapsed": true
   },
   "source": [
    "o MODELO DE REGRESSÃO LINEAR (Multiple Linear Regression)"
   ]
  },
  {
   "cell_type": "code",
   "execution_count": null,
   "metadata": {},
   "outputs": [],
   "source": []
  },
  {
   "cell_type": "code",
   "execution_count": null,
   "metadata": {},
   "outputs": [],
   "source": []
  },
  {
   "cell_type": "markdown",
   "metadata": {
    "collapsed": true
   },
   "source": [
    "o MODELO DE ÁRVORES DE REGRESSÃO (Decision Tree Regression)"
   ]
  },
  {
   "cell_type": "code",
   "execution_count": null,
   "metadata": {},
   "outputs": [],
   "source": []
  },
  {
   "cell_type": "code",
   "execution_count": null,
   "metadata": {},
   "outputs": [],
   "source": []
  },
  {
   "cell_type": "markdown",
   "metadata": {
    "collapsed": true
   },
   "source": [
    "___\n",
    "## D. PROCESSO E ESTATÍSTICAS DE VALIDAÇÃO"
   ]
  },
  {
   "cell_type": "markdown",
   "metadata": {},
   "source": [
    "[Esse item depende dos resultados das modelagens anteriores! Organize-os aqui de forma clara!]"
   ]
  },
  {
   "cell_type": "code",
   "execution_count": null,
   "metadata": {},
   "outputs": [],
   "source": []
  },
  {
   "cell_type": "code",
   "execution_count": null,
   "metadata": {},
   "outputs": [],
   "source": []
  },
  {
   "cell_type": "code",
   "execution_count": null,
   "metadata": {},
   "outputs": [],
   "source": []
  },
  {
   "cell_type": "code",
   "execution_count": null,
   "metadata": {},
   "outputs": [],
   "source": []
  },
  {
   "cell_type": "markdown",
   "metadata": {},
   "source": [
    "___\n",
    "## E. CONCLUSÃO"
   ]
  },
  {
   "cell_type": "code",
   "execution_count": null,
   "metadata": {},
   "outputs": [],
   "source": []
  },
  {
   "cell_type": "code",
   "execution_count": null,
   "metadata": {},
   "outputs": [],
   "source": []
  },
  {
   "cell_type": "code",
   "execution_count": null,
   "metadata": {},
   "outputs": [],
   "source": []
  },
  {
   "cell_type": "code",
   "execution_count": null,
   "metadata": {},
   "outputs": [],
   "source": []
  },
  {
   "cell_type": "markdown",
   "metadata": {},
   "source": [
    "___\n",
    "## F. REFERÊNCIAS BIBLIOGRÁFICAS"
   ]
  },
  {
   "cell_type": "code",
   "execution_count": null,
   "metadata": {},
   "outputs": [],
   "source": []
  },
  {
   "cell_type": "code",
   "execution_count": null,
   "metadata": {},
   "outputs": [],
   "source": []
  },
  {
   "cell_type": "code",
   "execution_count": null,
   "metadata": {},
   "outputs": [],
   "source": []
  },
  {
   "cell_type": "code",
   "execution_count": null,
   "metadata": {},
   "outputs": [],
   "source": []
  }
 ],
 "metadata": {
  "anaconda-cloud": {},
  "kernelspec": {
   "display_name": "Python 3",
   "language": "python",
   "name": "python3"
  },
  "language_info": {
   "codemirror_mode": {
    "name": "ipython",
    "version": 3
   },
   "file_extension": ".py",
   "mimetype": "text/x-python",
   "name": "python",
   "nbconvert_exporter": "python",
   "pygments_lexer": "ipython3",
   "version": "3.7.0"
  }
 },
 "nbformat": 4,
 "nbformat_minor": 1
}
