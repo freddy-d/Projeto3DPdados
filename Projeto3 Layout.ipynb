{
 "cells": [
  {
   "cell_type": "markdown",
   "metadata": {
    "collapsed": false
   },
   "source": [
    "___\n",
    "## Ciência dos Dados - PROJETO 3 - INSPER"
   ]
  },
  {
   "cell_type": "markdown",
   "metadata": {
    "collapsed": false
   },
   "source": [
    "___\n",
    "#### Freddy Dratwa\n",
    "\n",
    "#### Victor Vazquez\n",
    "\n",
    "#### Michel Haggiag\n",
    "\n",
    "#### Allan Singer\n",
    "\n",
    "#### Ricardo Ferraro\n",
    "\n",
    "___"
   ]
  },
  {
   "cell_type": "markdown",
   "metadata": {
    "collapsed": false
   },
   "source": [
    "# Estudo do preço do carro"
   ]
  },
  {
   "cell_type": "markdown",
   "metadata": {
    "collapsed": false
   },
   "source": [
    "___\n",
    "\n",
    "## A. INTRODUÇÃO"
   ]
  },
  {
   "cell_type": "markdown",
   "metadata": {
    "collapsed": false
   },
   "source": [
    "## https://www.kaggle.com/jpayne/852k-used-car-listings\n",
    "## https://scikit-learn.org/stable/tutorial/machine_learning_map/index.html"
   ]
  },
  {
   "cell_type": "markdown",
   "metadata": {
    "collapsed": false
   },
   "source": [
    "O objetivo deste projeto é chegar ao melhor modelo possível que seja capaz de prever o preço de um carro usado nos EUA a partir das características presentes no dataset:\n",
    "    <br>- Preço;<br>\n",
    "    - Ano;<br>\n",
    "    - Quilometragem;<br>\n",
    "    - Cidade;<br>\n",
    "    - Estado;<br>\n",
    "    - Marca;<br>\n",
    "    - Modelo;<br>\n",
    "    - Número de Chassis.<br>\n",
    "\n",
    "A base de dados possui 1.2 milhão de carros com data de produção entre os anos 1997 a 2018 de 58 marcas diferentes, sendo estes 2914 modelos distintos com o preço mÍnimo de US1.500,00 e máximo de US462.000,00 , com a mínima quilometragem 8 Km e a máxima 2.286.260,8 Km.<br>\n",
    "\n",
    "Como uma primeira previsão, imagina-se que algumas das características do dataset influenciam mais no preço do carro do que outras. Por exemplo, é de se esperar que um carro comprado há mais tempo tenha seu preço menor atualmente. Ou seja, a variavel \"Ano\", que representa o ano em que o carro foi fabricado, deve influenciar muito no preço do veículo, bem como a quilometragem, onde um carro que foi comprado mas usado pouco deve permanecer mais barato do que um usado muitas vezes.<br>\n",
    "\n",
    "Pelo outro lado, imagina-se que a variável \"Cidade\", a qual representa a cidade onde o carro foi comprado, não tenha tanta influência no preço do veículo, a não ser que comparadas  duas cidades com condições muito diferentes. Por exemplo, como se tratam de cidades apenas nos EUA, imaina-se que em cidades no litoral, os carros se depreciem com velocidade maior, como consequência do fenômeno da Maresia.<br>"
   ]
  },
  {
   "cell_type": "markdown",
   "metadata": {
    "collapsed": false
   },
   "source": [
    "___\n",
    "## B. MINERANDO DADOS e CARACTERÍSTICAS DO DATASET"
   ]
  },
  {
   "cell_type": "code",
   "execution_count": 2,
   "metadata": {
    "collapsed": false
   },
   "outputs": [
   ],
   "source": [
    "import pandas as pd\n",
    "import numpy as np\n",
    "import matplotlib.pyplot as plt\n",
    "import statsmodels.api as sm\n",
    "from sklearn import datasets, linear_model\n",
    "from sklearn.model_selection import train_test_split"
   ]
  },
  {
   "cell_type": "markdown",
   "metadata": {
    "collapsed": false
   },
   "source": [
    "### BASE DE DADOS"
   ]
  },
  {
   "cell_type": "markdown",
   "metadata": {
    "collapsed": false
   },
   "source": [
    "**Limpando e tratando dataset**\n",
    "\n",
    "Nas células abaixo, o dataset é limpo e reorganiazdo. Para se fazer isso, a coluna \"Chassi\" é removoida, pois esta é uma característica individual para cada veículo e não influencia no preço final do mesmo. Alem disso, duas colunas vazias foram reitradas. Então, a variável milhagem foi transformada em quilometragem, multplicando seu valor por 1.6. Por último, a variavel ano foi transformada em idade, ou seja, a diferença do ano atual (2019) para o ano em que o carro foi vendido. "
   ]
  },
  {
   "cell_type": "code",
   "execution_count": 3,
   "metadata": {
    "collapsed": false
   },
   "outputs": [
   ],
   "source": [
    "dataset = pd.read_csv(\"Dataframe.csv\")"
   ]
  },
  {
   "cell_type": "code",
   "execution_count": 4,
   "metadata": {
    "collapsed": false
   },
   "outputs": [
    {
     "data": {
      "text/html": [
       "<div>\n",
       "<style scoped>\n",
       "    .dataframe tbody tr th:only-of-type {\n",
       "        vertical-align: middle;\n",
       "    }\n",
       "\n",
       "    .dataframe tbody tr th {\n",
       "        vertical-align: top;\n",
       "    }\n",
       "\n",
       "    .dataframe thead th {\n",
       "        text-align: right;\n",
       "    }\n",
       "</style>\n",
       "<table border=\"1\" class=\"dataframe\">\n",
       "  <thead>\n",
       "    <tr style=\"text-align: right;\">\n",
       "      <th></th>\n",
       "      <th>Unnamed: 0</th>\n",
       "      <th>ID</th>\n",
       "      <th>PRECO</th>\n",
       "      <th>ANO</th>\n",
       "      <th>IDADE</th>\n",
       "      <th>KM</th>\n",
       "      <th>CIDADE</th>\n",
       "      <th>ESTADO</th>\n",
       "      <th>MARCA</th>\n",
       "      <th>MODELO</th>\n",
       "    </tr>\n",
       "  </thead>\n",
       "  <tbody>\n",
       "    <tr>\n",
       "      <th>0</th>\n",
       "      <td>0</td>\n",
       "      <td>516508.0</td>\n",
       "      <td>32500.0</td>\n",
       "      <td>2015.0</td>\n",
       "      <td>4.0</td>\n",
       "      <td>35886.4</td>\n",
       "      <td>ANKENY</td>\n",
       "      <td>IA</td>\n",
       "      <td>CHEVROLET</td>\n",
       "      <td>ColoradoCrew</td>\n",
       "    </tr>\n",
       "    <tr>\n",
       "      <th>1</th>\n",
       "      <td>1</td>\n",
       "      <td>744220.0</td>\n",
       "      <td>43310.0</td>\n",
       "      <td>2017.0</td>\n",
       "      <td>2.0</td>\n",
       "      <td>5918.4</td>\n",
       "      <td>MIAMI</td>\n",
       "      <td>FL</td>\n",
       "      <td>GMC</td>\n",
       "      <td>AcadiaFWD</td>\n",
       "    </tr>\n",
       "    <tr>\n",
       "      <th>2</th>\n",
       "      <td>2</td>\n",
       "      <td>341109.0</td>\n",
       "      <td>26887.0</td>\n",
       "      <td>2016.0</td>\n",
       "      <td>3.0</td>\n",
       "      <td>20011.2</td>\n",
       "      <td>HOUSTON</td>\n",
       "      <td>TX</td>\n",
       "      <td>TOYOTA</td>\n",
       "      <td>SiennaL</td>\n",
       "    </tr>\n",
       "    <tr>\n",
       "      <th>3</th>\n",
       "      <td>3</td>\n",
       "      <td>709465.0</td>\n",
       "      <td>34999.0</td>\n",
       "      <td>2014.0</td>\n",
       "      <td>5.0</td>\n",
       "      <td>49478.4</td>\n",
       "      <td>BOWLING GREEN</td>\n",
       "      <td>KY</td>\n",
       "      <td>FORD</td>\n",
       "      <td>F-150FX4</td>\n",
       "    </tr>\n",
       "    <tr>\n",
       "      <th>4</th>\n",
       "      <td>4</td>\n",
       "      <td>841923.0</td>\n",
       "      <td>27198.0</td>\n",
       "      <td>2014.0</td>\n",
       "      <td>5.0</td>\n",
       "      <td>106585.6</td>\n",
       "      <td>LAS CRUCES</td>\n",
       "      <td>NM</td>\n",
       "      <td>INFINITI</td>\n",
       "      <td>QX60AWD</td>\n",
       "    </tr>\n",
       "  </tbody>\n",
       "</table>\n",
       "</div>"
      ],
      "text/plain": [
       "   Unnamed: 0        ID    PRECO     ANO  IDADE        KM         CIDADE  \\\n",
       "0           0  516508.0  32500.0  2015.0    4.0   35886.4         ANKENY   \n",
       "1           1  744220.0  43310.0  2017.0    2.0    5918.4          MIAMI   \n",
       "2           2  341109.0  26887.0  2016.0    3.0   20011.2        HOUSTON   \n",
       "3           3  709465.0  34999.0  2014.0    5.0   49478.4  BOWLING GREEN   \n",
       "4           4  841923.0  27198.0  2014.0    5.0  106585.6     LAS CRUCES   \n",
       "\n",
       "  ESTADO      MARCA        MODELO  \n",
       "0     IA  CHEVROLET  ColoradoCrew  \n",
       "1     FL        GMC     AcadiaFWD  \n",
       "2     TX     TOYOTA       SiennaL  \n",
       "3     KY       FORD      F-150FX4  \n",
       "4     NM   INFINITI       QX60AWD  "
      ]
     },
     "execution_count": 4,
     "metadata": {
     },
     "output_type": "execute_result"
    }
   ],
   "source": [
    "dataset.head()"
   ]
  },
  {
   "cell_type": "markdown",
   "metadata": {
    "collapsed": false
   },
   "source": [
    "## ANÁLISE DESCRITIVA"
   ]
  },
  {
   "cell_type": "markdown",
   "metadata": {
    "collapsed": false
   },
   "source": [
    "___\n",
    "## C. MODELOS DE PREDIÇÃO"
   ]
  },
  {
   "cell_type": "markdown",
   "metadata": {
    "collapsed": true
   },
   "source": [
    "o MODELO DE PREDIÇÃO PELA MÉDIA (Sem uso de variável explicativa)."
   ]
  },
  {
   "cell_type": "markdown",
   "metadata": {
    "collapsed": false
   },
   "source": [
    "**Separando a base de dados em treinamento e teste aleatoriamente**"
   ]
  },
  {
   "cell_type": "code",
   "execution_count": 5,
   "metadata": {
    "collapsed": false
   },
   "outputs": [
   ],
   "source": [
    "train, test = train_test_split(dataset, test_size=0.25, train_size=0.75)"
   ]
  },
  {
   "cell_type": "code",
   "execution_count": 6,
   "metadata": {
    "collapsed": false
   },
   "outputs": [
   ],
   "source": [
    "y_train = train[\"PRECO\"].mean()\n",
    "y_test = test[\"PRECO\"].mean() # contem o preco previsto de um novo carro da base teste pelo moedelo de medias"
   ]
  },
  {
   "cell_type": "code",
   "execution_count": 7,
   "metadata": {
    "collapsed": false,
    "scrolled": true
   },
   "outputs": [
   ],
   "source": [
    "rms_train = []\n",
    "rms_test = []\n",
    "num_train = []\n",
    "dem_train = []\n",
    "num_test = []\n",
    "dem_test = []\n",
    "##### ARRRRRRRUMAR OS R SQUARED VIDE FOTO \n",
    "for a in train[\"PRECO\"]:\n",
    "    rms_train.append(np.sqrt((a-y_train)**2))\n",
    "    num_train.append((a-y_train)**2)\n",
    "    dem_train.append((a-y_train)**2)\n",
    "for e in test[\"PRECO\"]:\n",
    "    rms_test.append(np.sqrt((e-y_train)**2))\n",
    "    num_test.append((e-y_train)**2)\n",
    "    dem_test.append((e-y_test)**2)\n",
    "\n",
    "RMS_train_M = np.mean(rms_train)\n",
    "RMS_test_M = np.mean(rms_test)\n",
    "R_train_M = 1-(sum(num_train)/sum(dem_train))\n",
    "R_test_M = 1-(sum(num_test)/sum(dem_train))\n",
    "R_train = 1-(sum(num_train)/sum(dem_train))\n"
   ]
  },
  {
   "cell_type": "code",
   "execution_count": 8,
   "metadata": {
    "collapsed": false
   },
   "outputs": [
    {
     "data": {
      "text/plain": [
       "(0.0, 8979.677560192)"
      ]
     },
     "execution_count": 8,
     "metadata": {
     },
     "output_type": "execute_result"
    }
   ],
   "source": [
    "R_train_M,RMS_train_M"
   ]
  },
  {
   "cell_type": "code",
   "execution_count": 9,
   "metadata": {
    "collapsed": false
   },
   "outputs": [
    {
     "data": {
      "text/plain": [
       "(0.6846635925416844, 8932.445665728)"
      ]
     },
     "execution_count": 9,
     "metadata": {
     },
     "output_type": "execute_result"
    }
   ],
   "source": [
    "R_test_M, RMS_test_M"
   ]
  },
  {
   "cell_type": "code",
   "execution_count": 10,
   "metadata": {
    "collapsed": false
   },
   "outputs": [
   ],
   "source": [
    "R_perc_M = 0\n",
    "RMS_perc_M = ((RMS_test_M-RMS_train_M)/RMS_train_M)*100"
   ]
  },
  {
   "cell_type": "markdown",
   "metadata": {
    "collapsed": true
   },
   "source": [
    "o MODELO DOS K VIZINHOS MAIS PRÓXIMOS (K-Nearest Neighbors Regression)"
   ]
  },
  {
   "cell_type": "code",
   "execution_count": 0,
   "metadata": {
    "collapsed": false
   },
   "outputs": [
   ],
   "source": [
   ]
  },
  {
   "cell_type": "code",
   "execution_count": 0,
   "metadata": {
    "collapsed": false
   },
   "outputs": [
   ],
   "source": [
   ]
  },
  {
   "cell_type": "markdown",
   "metadata": {
    "collapsed": true
   },
   "source": [
    "o MODELO DE REGRESSÃO LINEAR (Multiple Linear Regression)"
   ]
  },
  {
   "cell_type": "code",
   "execution_count": 3,
   "metadata": {
    "collapsed": false
   },
   "outputs": [
   ],
   "source": [
    "def dummify(data, column_name):\n",
    "    return pd.get_dummies(data[column_name],drop_first = False, prefix = column_name)\n",
    "\n",
    "def regress(X,Y):\n",
    "    X_cp = sm.add_constant(X)\n",
    "    model = sm.OLS(Y,X_cp)\n",
    "    results = model.fit()\n",
    "    ypred = results.predict(X_cp)\n",
    "    return results, ypred"
   ]
  },
  {
   "cell_type": "code",
   "execution_count": 5,
   "metadata": {
    "collapsed": false
   },
   "outputs": [
   ],
   "source": [
    "final = pd.concat([dummify(dataset, \"ESTADO\").dropna(), dummify(dataset, \"MODELO\").dropna(), dummify(dataset, \"MARCA\").dropna()], axis=1)"
   ]
  },
  {
   "cell_type": "code",
   "execution_count": 7,
   "metadata": {
    "collapsed": false
   },
   "outputs": [
   ],
   "source": [
    "dt = dataset\n",
    "dt = dt.drop(columns = [\"ID\", \"ANO\", \"CIDADE\", \"ESTADO\", \"MARCA\", \"MODELO\"])\n",
    "final = pd.concat([dt, final], axis = 1)\n",
    "final.head()"
   ]
  },
  {
   "cell_type": "code",
   "execution_count": 8,
   "metadata": {
    "collapsed": false
   },
   "outputs": [
   ],
   "source": [
    "df = final\n",
    "\n",
    "x = df[np.delete(df.columns.values, 0)]\n",
    "y = df[[\"PRECO\"]]\n",
    "\n",
    "results = regress(x,y)\n",
    "\n",
    "dataresultados = pd.read_html(results[0].summary().tables[1].as_html(), header=0, index_col=0)[0]"
   ]
  },
  {
   "cell_type": "code",
   "execution_count": 6,
   "metadata": {
    "collapsed": false
   },
   "outputs": [
   ],
   "source": [
    "dataresultados.head(10)"
   ]
  },
  {
   "cell_type": "code",
   "execution_count": 0,
   "metadata": {
    "collapsed": false
   },
   "outputs": [
   ],
   "source": [
    "df = final\n",
    "for i in range(5):\n",
    "    df.drop(columns = dataresultados.loc[(dataresultados[\"P>|t|\"] > 0.10)].index)\n",
    "    x = df[np.delete(df.columns.values, 0)]\n",
    "    y = df[[\"PRECO\"]]\n",
    "\n",
    "    results = regress(x,y)\n",
    "\n",
    "    dataresultados = pd.read_html(results[0].summary().tables[1].as_html(), header=0, index_col=0)[0]\n",
    "\n",
    "quanti = 0\n",
    "for i in dataresultados[\"P>|t|\"]:\n",
    "    if i > 0.10:\n",
    "        quanti+=1\n",
    "print(quanti)"
   ]
  },
  {
   "cell_type": "code",
   "execution_count": 0,
   "metadata": {
    "collapsed": false
   },
   "outputs": [
   ],
   "source": [
   ]
  },
  {
   "cell_type": "code",
   "execution_count": 0,
   "metadata": {
    "collapsed": false
   },
   "outputs": [
   ],
   "source": [
   ]
  },
  {
   "cell_type": "code",
   "execution_count": 0,
   "metadata": {
    "collapsed": false
   },
   "outputs": [
   ],
   "source": [
   ]
  },
  {
   "cell_type": "code",
   "execution_count": 0,
   "metadata": {
    "collapsed": false
   },
   "outputs": [
   ],
   "source": [
   ]
  },
  {
   "cell_type": "markdown",
   "metadata": {
    "collapsed": true
   },
   "source": [
    "o MODELO DE ÁRVORES DE REGRESSÃO (Decision Tree Regression)"
   ]
  },
  {
   "cell_type": "code",
   "execution_count": 0,
   "metadata": {
    "collapsed": false
   },
   "outputs": [
   ],
   "source": [
   ]
  },
  {
   "cell_type": "code",
   "execution_count": 0,
   "metadata": {
    "collapsed": false
   },
   "outputs": [
   ],
   "source": [
   ]
  },
  {
   "cell_type": "markdown",
   "metadata": {
    "collapsed": true
   },
   "source": [
    "___\n",
    "## D. PROCESSO E ESTATÍSTICAS DE VALIDAÇÃO"
   ]
  },
  {
   "cell_type": "markdown",
   "metadata": {
    "collapsed": false
   },
   "source": [
    "Nesta céluka abaixo foi criado um dataframe com os valores de Rˆ2 e RMS de treinamento e de teste de cada variável, além disso o percentual do Rˆ2 e do RMS."
   ]
  },
  {
   "cell_type": "code",
   "execution_count": 11,
   "metadata": {
    "collapsed": false
   },
   "outputs": [
   ],
   "source": [
    "predicoes = [\"Media\", \"K-NN\", \"Regressão\", \"Árvore de Decisão\"]\n",
    "R_TRAIN = [R_train_M, 0, 0, 0]\n",
    "R_TEST = [R_test_M, 0, 0, 0]\n",
    "R_PERC = [R_perc_M, 0, 0, 0]\n",
    "RMS_TRAIN = [RMS_train_M, 0, 0, 0]\n",
    "RMS_TEST = [RMS_test_M, 0, 0, 0]\n",
    "RMS_PERC = [RMS_perc_M, 0, 0, 0]\n",
    "PREDI = pd.DataFrame(data = predicoes)\n",
    "PREDI.columns = [\"Modelo\"]\n",
    "PREDI[\"Rˆ2 Treinamento\"] = R_TRAIN\n",
    "PREDI[\"Rˆ2 Teste\"] = R_TEST\n",
    "PREDI[\"Rˆ2 %\"] = R_PERC\n",
    "PREDI[\"RMS Treinamento\"] = RMS_TRAIN\n",
    "PREDI[\"RMS Teste\"] = RMS_TEST\n",
    "PREDI[\"RMS %\"] = RMS_PERC"
   ]
  },
  {
   "cell_type": "code",
   "execution_count": 12,
   "metadata": {
    "collapsed": false
   },
   "outputs": [
    {
     "data": {
      "text/html": [
       "<div>\n",
       "<style scoped>\n",
       "    .dataframe tbody tr th:only-of-type {\n",
       "        vertical-align: middle;\n",
       "    }\n",
       "\n",
       "    .dataframe tbody tr th {\n",
       "        vertical-align: top;\n",
       "    }\n",
       "\n",
       "    .dataframe thead th {\n",
       "        text-align: right;\n",
       "    }\n",
       "</style>\n",
       "<table border=\"1\" class=\"dataframe\">\n",
       "  <thead>\n",
       "    <tr style=\"text-align: right;\">\n",
       "      <th></th>\n",
       "      <th>Modelo</th>\n",
       "      <th>Rˆ2 Treinamento</th>\n",
       "      <th>Rˆ2 Teste</th>\n",
       "      <th>Rˆ2 %</th>\n",
       "      <th>RMS Treinamento</th>\n",
       "      <th>RMS Teste</th>\n",
       "      <th>RMS %</th>\n",
       "    </tr>\n",
       "  </thead>\n",
       "  <tbody>\n",
       "    <tr>\n",
       "      <th>0</th>\n",
       "      <td>Media</td>\n",
       "      <td>0.0</td>\n",
       "      <td>0.684664</td>\n",
       "      <td>0</td>\n",
       "      <td>8979.67756</td>\n",
       "      <td>8932.445666</td>\n",
       "      <td>-0.525987</td>\n",
       "    </tr>\n",
       "    <tr>\n",
       "      <th>1</th>\n",
       "      <td>K-NN</td>\n",
       "      <td>0.0</td>\n",
       "      <td>0.000000</td>\n",
       "      <td>0</td>\n",
       "      <td>0.00000</td>\n",
       "      <td>0.000000</td>\n",
       "      <td>0.000000</td>\n",
       "    </tr>\n",
       "    <tr>\n",
       "      <th>2</th>\n",
       "      <td>Regressão</td>\n",
       "      <td>0.0</td>\n",
       "      <td>0.000000</td>\n",
       "      <td>0</td>\n",
       "      <td>0.00000</td>\n",
       "      <td>0.000000</td>\n",
       "      <td>0.000000</td>\n",
       "    </tr>\n",
       "    <tr>\n",
       "      <th>3</th>\n",
       "      <td>Árvore de Decisão</td>\n",
       "      <td>0.0</td>\n",
       "      <td>0.000000</td>\n",
       "      <td>0</td>\n",
       "      <td>0.00000</td>\n",
       "      <td>0.000000</td>\n",
       "      <td>0.000000</td>\n",
       "    </tr>\n",
       "  </tbody>\n",
       "</table>\n",
       "</div>"
      ],
      "text/plain": [
       "              Modelo  Rˆ2 Treinamento  Rˆ2 Teste  Rˆ2 %  RMS Treinamento  \\\n",
       "0              Media              0.0   0.684664      0       8979.67756   \n",
       "1               K-NN              0.0   0.000000      0          0.00000   \n",
       "2          Regressão              0.0   0.000000      0          0.00000   \n",
       "3  Árvore de Decisão              0.0   0.000000      0          0.00000   \n",
       "\n",
       "     RMS Teste     RMS %  \n",
       "0  8932.445666 -0.525987  \n",
       "1     0.000000  0.000000  \n",
       "2     0.000000  0.000000  \n",
       "3     0.000000  0.000000  "
      ]
     },
     "execution_count": 12,
     "metadata": {
     },
     "output_type": "execute_result"
    }
   ],
   "source": [
    "PREDI"
   ]
  },
  {
   "cell_type": "code",
   "execution_count": 0,
   "metadata": {
    "collapsed": false
   },
   "outputs": [
   ],
   "source": [
   ]
  },
  {
   "cell_type": "markdown",
   "metadata": {
    "collapsed": false
   },
   "source": [
    "___\n",
    "## E. CONCLUSÃO"
   ]
  },
  {
   "cell_type": "code",
   "execution_count": 0,
   "metadata": {
    "collapsed": false
   },
   "outputs": [
   ],
   "source": [
   ]
  },
  {
   "cell_type": "code",
   "execution_count": 0,
   "metadata": {
    "collapsed": false
   },
   "outputs": [
   ],
   "source": [
   ]
  },
  {
   "cell_type": "code",
   "execution_count": 0,
   "metadata": {
    "collapsed": false
   },
   "outputs": [
   ],
   "source": [
   ]
  },
  {
   "cell_type": "code",
   "execution_count": 0,
   "metadata": {
    "collapsed": false
   },
   "outputs": [
   ],
   "source": [
   ]
  },
  {
   "cell_type": "markdown",
   "metadata": {
    "collapsed": false
   },
   "source": [
    "___\n",
    "## F. REFERÊNCIAS BIBLIOGRÁFICAS"
   ]
  },
  {
   "cell_type": "code",
   "execution_count": 0,
   "metadata": {
    "collapsed": false
   },
   "outputs": [
   ],
   "source": [
   ]
  },
  {
   "cell_type": "code",
   "execution_count": 0,
   "metadata": {
    "collapsed": false
   },
   "outputs": [
   ],
   "source": [
   ]
  },
  {
   "cell_type": "code",
   "execution_count": 0,
   "metadata": {
    "collapsed": false
   },
   "outputs": [
   ],
   "source": [
   ]
  },
  {
   "cell_type": "code",
   "execution_count": 0,
   "metadata": {
    "collapsed": false
   },
   "outputs": [
   ],
   "source": [
   ]
  }
 ],
 "metadata": {
  "anaconda-cloud": {
  },
  "kernelspec": {
   "display_name": "Python 3 (Ubuntu Linux)",
   "language": "python",
   "metadata": {
    "cocalc": {
     "description": "Python 3 programming language",
     "priority": 100,
     "url": "https://www.python.org/"
    }
   },
   "name": "python3"
  },
  "language_info": {
   "codemirror_mode": {
    "name": "ipython",
    "version": 3
   },
   "file_extension": ".py",
   "mimetype": "text/x-python",
   "name": "python",
   "nbconvert_exporter": "python",
   "pygments_lexer": "ipython3",
   "version": "3.6.7"
  }
 },
 "nbformat": 4,
 "nbformat_minor": 0
}