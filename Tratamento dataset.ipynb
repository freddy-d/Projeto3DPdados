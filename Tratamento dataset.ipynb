{
 "cells": [
  {
   "cell_type": "code",
   "execution_count": 1,
   "metadata": {},
   "outputs": [],
   "source": [
    "import pandas as pd\n",
    "import os\n",
    "import numpy as np\n",
    "import random\n",
    "from pandas import ExcelWriter"
   ]
  },
  {
   "cell_type": "code",
   "execution_count": 9,
   "metadata": {},
   "outputs": [],
   "source": [
    "dataset = pd.read_csv(\"cars.csv\")"
   ]
  },
  {
   "cell_type": "code",
   "execution_count": 10,
   "metadata": {},
   "outputs": [],
   "source": [
    "dataset = dataset.sample(frac=1).reset_index(drop=True)\n",
    "if \"Unnamed: 10\" in dataset and \"Unnamed: 9\" in dataset and \"Vin\" in dataset:\n",
    "    dataset = dataset.drop(columns=[\"Vin\",\"Unnamed: 9\", \"Unnamed: 10\"])\n",
    "    dataset[\"Mileage\"] = dataset[\"Mileage\"].apply(lambda x: x*1.6)\n",
    "    dataset.columns = [\"ID\",\"PRECO\",\"ANO\",\"KM\",\"CIDADE\",\"ESTADO\",\"MARCA\",\"MODELO\"]"
   ]
  },
  {
   "cell_type": "code",
   "execution_count": 12,
   "metadata": {},
   "outputs": [
    {
     "data": {
      "text/html": [
       "<div>\n",
       "<style scoped>\n",
       "    .dataframe tbody tr th:only-of-type {\n",
       "        vertical-align: middle;\n",
       "    }\n",
       "\n",
       "    .dataframe tbody tr th {\n",
       "        vertical-align: top;\n",
       "    }\n",
       "\n",
       "    .dataframe thead th {\n",
       "        text-align: right;\n",
       "    }\n",
       "</style>\n",
       "<table border=\"1\" class=\"dataframe\">\n",
       "  <thead>\n",
       "    <tr style=\"text-align: right;\">\n",
       "      <th></th>\n",
       "      <th>ID</th>\n",
       "      <th>PRECO</th>\n",
       "      <th>ANO</th>\n",
       "      <th>KM</th>\n",
       "      <th>CIDADE</th>\n",
       "      <th>ESTADO</th>\n",
       "      <th>MARCA</th>\n",
       "      <th>MODELO</th>\n",
       "    </tr>\n",
       "  </thead>\n",
       "  <tbody>\n",
       "    <tr>\n",
       "      <th>0</th>\n",
       "      <td>454092.0</td>\n",
       "      <td>15899.0</td>\n",
       "      <td>2017.0</td>\n",
       "      <td>41889.6</td>\n",
       "      <td>Garland</td>\n",
       "      <td>TX</td>\n",
       "      <td>Chevrolet</td>\n",
       "      <td>CruzeSedan</td>\n",
       "    </tr>\n",
       "    <tr>\n",
       "      <th>1</th>\n",
       "      <td>83936.0</td>\n",
       "      <td>3977.0</td>\n",
       "      <td>2009.0</td>\n",
       "      <td>167579.2</td>\n",
       "      <td>Palestine</td>\n",
       "      <td>TX</td>\n",
       "      <td>Dodge</td>\n",
       "      <td>Avenger4dr</td>\n",
       "    </tr>\n",
       "    <tr>\n",
       "      <th>2</th>\n",
       "      <td>1017445.0</td>\n",
       "      <td>13285.0</td>\n",
       "      <td>2014.0</td>\n",
       "      <td>25766.4</td>\n",
       "      <td>Houston</td>\n",
       "      <td>TX</td>\n",
       "      <td>Nissan</td>\n",
       "      <td>SentraSR</td>\n",
       "    </tr>\n",
       "    <tr>\n",
       "      <th>3</th>\n",
       "      <td>403241.0</td>\n",
       "      <td>14450.0</td>\n",
       "      <td>2008.0</td>\n",
       "      <td>104091.2</td>\n",
       "      <td>Waterbury</td>\n",
       "      <td>CT</td>\n",
       "      <td>INFINITI</td>\n",
       "      <td>G37</td>\n",
       "    </tr>\n",
       "    <tr>\n",
       "      <th>4</th>\n",
       "      <td>308030.0</td>\n",
       "      <td>6795.0</td>\n",
       "      <td>2007.0</td>\n",
       "      <td>178300.8</td>\n",
       "      <td>Westminster</td>\n",
       "      <td>CO</td>\n",
       "      <td>Scion</td>\n",
       "      <td>tC3dr</td>\n",
       "    </tr>\n",
       "  </tbody>\n",
       "</table>\n",
       "</div>"
      ],
      "text/plain": [
       "          ID    PRECO     ANO        KM       CIDADE ESTADO      MARCA  \\\n",
       "0   454092.0  15899.0  2017.0   41889.6      Garland     TX  Chevrolet   \n",
       "1    83936.0   3977.0  2009.0  167579.2    Palestine     TX      Dodge   \n",
       "2  1017445.0  13285.0  2014.0   25766.4      Houston     TX     Nissan   \n",
       "3   403241.0  14450.0  2008.0  104091.2    Waterbury     CT   INFINITI   \n",
       "4   308030.0   6795.0  2007.0  178300.8  Westminster     CO      Scion   \n",
       "\n",
       "       MODELO  \n",
       "0  CruzeSedan  \n",
       "1  Avenger4dr  \n",
       "2    SentraSR  \n",
       "3         G37  \n",
       "4       tC3dr  "
      ]
     },
     "execution_count": 12,
     "metadata": {},
     "output_type": "execute_result"
    }
   ],
   "source": [
    "dataset = dataset[:100000]\n",
    "dataset.head()"
   ]
  },
  {
   "cell_type": "code",
   "execution_count": 13,
   "metadata": {},
   "outputs": [],
   "source": [
    "dataset.to_csv(\"Dataframe.csv\")"
   ]
  }
 ],
 "metadata": {
  "kernelspec": {
   "display_name": "Python 3",
   "language": "python",
   "name": "python3"
  },
  "language_info": {
   "codemirror_mode": {
    "name": "ipython",
    "version": 3
   },
   "file_extension": ".py",
   "mimetype": "text/x-python",
   "name": "python",
   "nbconvert_exporter": "python",
   "pygments_lexer": "ipython3",
   "version": "3.7.0"
  }
 },
 "nbformat": 4,
 "nbformat_minor": 2
}
