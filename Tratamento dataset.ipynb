{
 "cells": [
  {
   "cell_type": "code",
   "execution_count": 1,
   "metadata": {},
   "outputs": [],
   "source": [
    "import pandas as pd\n",
    "import os\n",
    "import numpy as np\n",
    "import random\n",
    "from pandas import ExcelWriter"
   ]
  },
  {
   "cell_type": "code",
   "execution_count": 2,
   "metadata": {},
   "outputs": [
    {
     "name": "stderr",
     "output_type": "stream",
     "text": [
      "C:\\Users\\Freddy Dratwa\\AppData\\Local\\Programs\\Python\\Python37\\lib\\site-packages\\IPython\\core\\interactiveshell.py:3018: DtypeWarning: Columns (9,10) have mixed types. Specify dtype option on import or set low_memory=False.\n",
      "  interactivity=interactivity, compiler=compiler, result=result)\n"
     ]
    }
   ],
   "source": [
    "dataset = pd.read_csv(\"cars.csv\")"
   ]
  },
  {
   "cell_type": "code",
   "execution_count": 3,
   "metadata": {},
   "outputs": [],
   "source": [
    "dataset = dataset.sample(frac=1).reset_index(drop=True)"
   ]
  },
  {
   "cell_type": "code",
   "execution_count": 4,
   "metadata": {},
   "outputs": [
    {
     "data": {
      "text/html": [
       "<div>\n",
       "<style scoped>\n",
       "    .dataframe tbody tr th:only-of-type {\n",
       "        vertical-align: middle;\n",
       "    }\n",
       "\n",
       "    .dataframe tbody tr th {\n",
       "        vertical-align: top;\n",
       "    }\n",
       "\n",
       "    .dataframe thead th {\n",
       "        text-align: right;\n",
       "    }\n",
       "</style>\n",
       "<table border=\"1\" class=\"dataframe\">\n",
       "  <thead>\n",
       "    <tr style=\"text-align: right;\">\n",
       "      <th></th>\n",
       "      <th>Id</th>\n",
       "      <th>Price</th>\n",
       "      <th>Year</th>\n",
       "      <th>Mileage</th>\n",
       "      <th>City</th>\n",
       "      <th>State</th>\n",
       "      <th>Vin</th>\n",
       "      <th>Make</th>\n",
       "      <th>Model</th>\n",
       "      <th>Unnamed: 9</th>\n",
       "      <th>Unnamed: 10</th>\n",
       "    </tr>\n",
       "  </thead>\n",
       "  <tbody>\n",
       "    <tr>\n",
       "      <th>0</th>\n",
       "      <td>71314.0</td>\n",
       "      <td>30865.0</td>\n",
       "      <td>2015.0</td>\n",
       "      <td>19874.0</td>\n",
       "      <td>Salinas</td>\n",
       "      <td>CA</td>\n",
       "      <td>1C4RDJDG3FC923623</td>\n",
       "      <td>Dodge</td>\n",
       "      <td>DurangoAWD</td>\n",
       "      <td>NaN</td>\n",
       "      <td>NaN</td>\n",
       "    </tr>\n",
       "    <tr>\n",
       "      <th>1</th>\n",
       "      <td>550011.0</td>\n",
       "      <td>16492.0</td>\n",
       "      <td>2015.0</td>\n",
       "      <td>30324.0</td>\n",
       "      <td>Clive</td>\n",
       "      <td>IA</td>\n",
       "      <td>1C3CCCCG7FN565263</td>\n",
       "      <td>Chrysler</td>\n",
       "      <td>200C</td>\n",
       "      <td>NaN</td>\n",
       "      <td>NaN</td>\n",
       "    </tr>\n",
       "    <tr>\n",
       "      <th>2</th>\n",
       "      <td>333281.0</td>\n",
       "      <td>20994.0</td>\n",
       "      <td>2014.0</td>\n",
       "      <td>19619.0</td>\n",
       "      <td>Sinking Spring</td>\n",
       "      <td>PA</td>\n",
       "      <td>2T3RFREV0EW197303</td>\n",
       "      <td>Toyota</td>\n",
       "      <td>RAV44X4</td>\n",
       "      <td>NaN</td>\n",
       "      <td>NaN</td>\n",
       "    </tr>\n",
       "    <tr>\n",
       "      <th>3</th>\n",
       "      <td>140986.0</td>\n",
       "      <td>29588.0</td>\n",
       "      <td>2014.0</td>\n",
       "      <td>22837.0</td>\n",
       "      <td>Sarasota</td>\n",
       "      <td>FL</td>\n",
       "      <td>3GYFNBE37ES614676</td>\n",
       "      <td>Cadillac</td>\n",
       "      <td>SRXLuxury</td>\n",
       "      <td>NaN</td>\n",
       "      <td>NaN</td>\n",
       "    </tr>\n",
       "    <tr>\n",
       "      <th>4</th>\n",
       "      <td>415607.0</td>\n",
       "      <td>14980.0</td>\n",
       "      <td>2010.0</td>\n",
       "      <td>23608.0</td>\n",
       "      <td>Springfield</td>\n",
       "      <td>PA</td>\n",
       "      <td>1G4GC5GG0AF255358</td>\n",
       "      <td>Buick</td>\n",
       "      <td>LaCrosse4dr</td>\n",
       "      <td>NaN</td>\n",
       "      <td>NaN</td>\n",
       "    </tr>\n",
       "  </tbody>\n",
       "</table>\n",
       "</div>"
      ],
      "text/plain": [
       "         Id    Price    Year  Mileage            City State  \\\n",
       "0   71314.0  30865.0  2015.0  19874.0         Salinas    CA   \n",
       "1  550011.0  16492.0  2015.0  30324.0           Clive    IA   \n",
       "2  333281.0  20994.0  2014.0  19619.0  Sinking Spring    PA   \n",
       "3  140986.0  29588.0  2014.0  22837.0        Sarasota    FL   \n",
       "4  415607.0  14980.0  2010.0  23608.0     Springfield    PA   \n",
       "\n",
       "                 Vin      Make        Model Unnamed: 9 Unnamed: 10  \n",
       "0  1C4RDJDG3FC923623     Dodge   DurangoAWD        NaN         NaN  \n",
       "1  1C3CCCCG7FN565263  Chrysler         200C        NaN         NaN  \n",
       "2  2T3RFREV0EW197303    Toyota      RAV44X4        NaN         NaN  \n",
       "3  3GYFNBE37ES614676  Cadillac    SRXLuxury        NaN         NaN  \n",
       "4  1G4GC5GG0AF255358     Buick  LaCrosse4dr        NaN         NaN  "
      ]
     },
     "execution_count": 4,
     "metadata": {},
     "output_type": "execute_result"
    }
   ],
   "source": [
    "dataset = dataset[:100000]\n",
    "dataset.head()"
   ]
  },
  {
   "cell_type": "code",
   "execution_count": 5,
   "metadata": {},
   "outputs": [],
   "source": [
    "dataset.to_csv(\"Dataframe.csv\")"
   ]
  }
 ],
 "metadata": {
  "kernelspec": {
   "display_name": "Python 3",
   "language": "python",
   "name": "python3"
  },
  "language_info": {
   "codemirror_mode": {
    "name": "ipython",
    "version": 3
   },
   "file_extension": ".py",
   "mimetype": "text/x-python",
   "name": "python",
   "nbconvert_exporter": "python",
   "pygments_lexer": "ipython3",
   "version": "3.7.0"
  }
 },
 "nbformat": 4,
 "nbformat_minor": 2
}
