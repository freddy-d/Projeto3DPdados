{
 "cells": [
  {
   "cell_type": "code",
   "execution_count": 2,
   "metadata": {},
   "outputs": [],
   "source": [
    "import pandas as pd\n",
    "import os\n",
    "import numpy as np\n",
    "import random\n",
    "from pandas import ExcelWriter"
   ]
  },
  {
   "cell_type": "code",
   "execution_count": 3,
   "metadata": {},
   "outputs": [
    {
     "name": "stderr",
     "output_type": "stream",
     "text": [
      "C:\\Users\\Freddy Dratwa\\AppData\\Local\\Programs\\Python\\Python37\\lib\\site-packages\\IPython\\core\\interactiveshell.py:3018: DtypeWarning: Columns (9,10) have mixed types. Specify dtype option on import or set low_memory=False.\n",
      "  interactivity=interactivity, compiler=compiler, result=result)\n"
     ]
    }
   ],
   "source": [
    "dataset = pd.read_csv(\"cars.csv\")"
   ]
  },
  {
   "cell_type": "code",
   "execution_count": 4,
   "metadata": {},
   "outputs": [],
   "source": [
    "dataset = dataset.sample(frac=1).reset_index(drop=True)"
   ]
  },
  {
   "cell_type": "code",
   "execution_count": 4,
   "metadata": {},
   "outputs": [],
   "source": [
    "# if \"Unnamed: 10\" in dataset and \"Unnamed: 9\" in dataset and \"Vin\" in dataset:\n",
    "#     dataset = dataset.drop(columns=[\"Vin\",\"Unnamed: 9\", \"Unnamed: 10\"])\n",
    "#     dataset[\"Mileage\"] = dataset[\"Mileage\"].apply(lambda x: x*1.6)\n",
    "\n",
    "#     dataset.columns = [\"ID\",\"PRECO\",\"ANO\",\"KM\",\"CIDADE\",\"ESTADO\",\"MARCA\",\"MODELO\"]\n",
    "#     dataset[\"IDADE\"] = dataset[\"ANO\"].apply(lambda x: 2019-x)\n",
    "\n",
    "#     dataset.ID = dataset.ID.astype(\"float\")\n",
    "#     dataset.PRECO = dataset.PRECO.astype(\"float\")\n",
    "#     dataset.ANO = dataset.ANO.astype(\"float\")\n",
    "#     dataset.KM = dataset.KM.astype(\"float\")\n",
    "#     dataset.IDADE = dataset.IDADE.astype(\"float\")\n",
    "#     dataset.CIDADE = dataset.CIDADE.astype(\"category\")\n",
    "#     dataset.ESTADO = dataset.ESTADO.astype(\"category\")\n",
    "#     dataset.MARCA = dataset.MARCA.astype(\"category\")\n",
    "#     dataset.MODELO = dataset.MODELO.astype(\"category\")\n",
    "\n",
    "#     dataset[\"ESTADO\"] = dataset[\"ESTADO\"].apply(lambda x: x.upper())\n",
    "#     dataset[\"CIDADE\"] = dataset[\"CIDADE\"].apply(lambda x: x.upper())\n",
    "#     dataset[\"MARCA\"] = dataset[\"MARCA\"].apply(lambda x: x.upper())\n",
    "#     dataset = dataset[[\"ID\",\"PRECO\",\"ANO\",\"IDADE\",\"KM\",\"CIDADE\",\"ESTADO\",\"MARCA\",\"MODELO\"]]"
   ]
  },
  {
   "cell_type": "code",
   "execution_count": 5,
   "metadata": {},
   "outputs": [
    {
     "data": {
      "text/html": [
       "<div>\n",
       "<style scoped>\n",
       "    .dataframe tbody tr th:only-of-type {\n",
       "        vertical-align: middle;\n",
       "    }\n",
       "\n",
       "    .dataframe tbody tr th {\n",
       "        vertical-align: top;\n",
       "    }\n",
       "\n",
       "    .dataframe thead th {\n",
       "        text-align: right;\n",
       "    }\n",
       "</style>\n",
       "<table border=\"1\" class=\"dataframe\">\n",
       "  <thead>\n",
       "    <tr style=\"text-align: right;\">\n",
       "      <th></th>\n",
       "      <th>Id</th>\n",
       "      <th>Price</th>\n",
       "      <th>Year</th>\n",
       "      <th>Mileage</th>\n",
       "      <th>City</th>\n",
       "      <th>State</th>\n",
       "      <th>Vin</th>\n",
       "      <th>Make</th>\n",
       "      <th>Model</th>\n",
       "      <th>Unnamed: 9</th>\n",
       "      <th>Unnamed: 10</th>\n",
       "    </tr>\n",
       "  </thead>\n",
       "  <tbody>\n",
       "    <tr>\n",
       "      <th>0</th>\n",
       "      <td>79293.0</td>\n",
       "      <td>18684.0</td>\n",
       "      <td>2015.0</td>\n",
       "      <td>12499.0</td>\n",
       "      <td>Owensboro</td>\n",
       "      <td>KY</td>\n",
       "      <td>3C4PDCBB6FT631351</td>\n",
       "      <td>Dodge</td>\n",
       "      <td>JourneySXT</td>\n",
       "      <td>NaN</td>\n",
       "      <td>NaN</td>\n",
       "    </tr>\n",
       "    <tr>\n",
       "      <th>1</th>\n",
       "      <td>190834.0</td>\n",
       "      <td>26318.0</td>\n",
       "      <td>2016.0</td>\n",
       "      <td>8477.0</td>\n",
       "      <td>Corpus Christi</td>\n",
       "      <td>TX</td>\n",
       "      <td>WBA8E1G52GNT36643</td>\n",
       "      <td>BMW</td>\n",
       "      <td>3</td>\n",
       "      <td>NaN</td>\n",
       "      <td>NaN</td>\n",
       "    </tr>\n",
       "    <tr>\n",
       "      <th>2</th>\n",
       "      <td>670383.0</td>\n",
       "      <td>25802.0</td>\n",
       "      <td>2014.0</td>\n",
       "      <td>65878.0</td>\n",
       "      <td>Port Lavaca</td>\n",
       "      <td>TX</td>\n",
       "      <td>1FM5K7F80EGC01722</td>\n",
       "      <td>Ford</td>\n",
       "      <td>ExplorerLimited</td>\n",
       "      <td>NaN</td>\n",
       "      <td>NaN</td>\n",
       "    </tr>\n",
       "    <tr>\n",
       "      <th>3</th>\n",
       "      <td>586732.0</td>\n",
       "      <td>9899.0</td>\n",
       "      <td>2005.0</td>\n",
       "      <td>108512.0</td>\n",
       "      <td>Lindon</td>\n",
       "      <td>UT</td>\n",
       "      <td>1D7HW48N05S164407</td>\n",
       "      <td>Dodge</td>\n",
       "      <td>Dakota4WD</td>\n",
       "      <td>NaN</td>\n",
       "      <td>NaN</td>\n",
       "    </tr>\n",
       "    <tr>\n",
       "      <th>4</th>\n",
       "      <td>37609.0</td>\n",
       "      <td>30999.0</td>\n",
       "      <td>2016.0</td>\n",
       "      <td>8358.0</td>\n",
       "      <td>Fond du Lac</td>\n",
       "      <td>WI</td>\n",
       "      <td>1FA6P8CF2G5310562</td>\n",
       "      <td>Ford</td>\n",
       "      <td>MustangFastback</td>\n",
       "      <td>NaN</td>\n",
       "      <td>NaN</td>\n",
       "    </tr>\n",
       "  </tbody>\n",
       "</table>\n",
       "</div>"
      ],
      "text/plain": [
       "         Id    Price    Year   Mileage            City State  \\\n",
       "0   79293.0  18684.0  2015.0   12499.0       Owensboro    KY   \n",
       "1  190834.0  26318.0  2016.0    8477.0  Corpus Christi    TX   \n",
       "2  670383.0  25802.0  2014.0   65878.0     Port Lavaca    TX   \n",
       "3  586732.0   9899.0  2005.0  108512.0          Lindon    UT   \n",
       "4   37609.0  30999.0  2016.0    8358.0     Fond du Lac    WI   \n",
       "\n",
       "                 Vin   Make            Model Unnamed: 9 Unnamed: 10  \n",
       "0  3C4PDCBB6FT631351  Dodge       JourneySXT        NaN         NaN  \n",
       "1  WBA8E1G52GNT36643    BMW                3        NaN         NaN  \n",
       "2  1FM5K7F80EGC01722   Ford  ExplorerLimited        NaN         NaN  \n",
       "3  1D7HW48N05S164407  Dodge        Dakota4WD        NaN         NaN  \n",
       "4  1FA6P8CF2G5310562   Ford  MustangFastback        NaN         NaN  "
      ]
     },
     "execution_count": 5,
     "metadata": {},
     "output_type": "execute_result"
    }
   ],
   "source": [
    "dataset = dataset[:100000]\n",
    "dataset.head()"
   ]
  },
  {
   "cell_type": "code",
   "execution_count": 6,
   "metadata": {},
   "outputs": [],
   "source": [
    "dataset.to_csv(\"Dataframe.csv\")"
   ]
  }
 ],
 "metadata": {
  "kernelspec": {
   "display_name": "Python 3",
   "language": "python",
   "name": "python3"
  },
  "language_info": {
   "codemirror_mode": {
    "name": "ipython",
    "version": 3
   },
   "file_extension": ".py",
   "mimetype": "text/x-python",
   "name": "python",
   "nbconvert_exporter": "python",
   "pygments_lexer": "ipython3",
   "version": "3.7.0"
  }
 },
 "nbformat": 4,
 "nbformat_minor": 1
}
