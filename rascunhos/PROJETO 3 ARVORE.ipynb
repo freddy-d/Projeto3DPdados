{
 "cells": [
  {
   "cell_type": "markdown",
   "metadata": {},
   "source": [
    "___\n",
    "## Ciência dos Dados - PROJETO 3 - ALLAN - ARVORE"
   ]
  },
  {
   "cell_type": "markdown",
   "metadata": {
    "collapsed": true
   },
   "source": [
    "o MODELO DE ÁRVORES DE REGRESSÃO (Decision Tree Regression)"
   ]
  },
  {
   "cell_type": "code",
   "execution_count": 58,
   "metadata": {},
   "outputs": [],
   "source": [
    "X_train = train\n",
    "X_test = test\n",
    "\n",
    "\n",
    "X_train = X_train.drop(columns = [\"ID\", \"PRECO\",\"ANO\", \"CIDADE\", \"ESTADO\", \"MARCA\", \"MODELO\"])\n",
    "\n",
    "\n",
    "\n",
    "X_test = X_test.drop(columns = [\"ID\", \"PRECO\",\"ANO\", \"CIDADE\", \"ESTADO\", \"MARCA\", \"MODELO\"])\n",
    "\n",
    "\n"
   ]
  },
  {
   "cell_type": "code",
   "execution_count": 59,
   "metadata": {},
   "outputs": [],
   "source": [
    "regressor = DecisionTreeRegressor(random_state = 0)\n",
    "regressor.fit(X_train, Y_train);\n",
    "\n",
    "Y_pred_train = regressor.predict(X_train)\n",
    "\n",
    "Y_pred_test = regressor.predict(X_test)"
   ]
  },
  {
   "cell_type": "code",
   "execution_count": 60,
   "metadata": {},
   "outputs": [
    {
     "data": {
      "text/plain": [
       "(-145.8196852987226, 350.6290537925032)"
      ]
     },
     "execution_count": 60,
     "metadata": {},
     "output_type": "execute_result"
    }
   ],
   "source": [
    "rms_train_A = []\n",
    "rms_test_A = []\n",
    "num_train_A = []\n",
    "dem_train_A = []\n",
    "num_test_A = []\n",
    "dem_test_A = []\n",
    "\n",
    "trainpreco = train[\"PRECO\"].tolist()\n",
    "testpreco = test[\"PRECO\"].tolist()\n",
    "\n",
    "for a in range(len(trainpreco)):\n",
    "    rms_train_A.append((trainpreco[a]-Y_pred_train[a])**2)\n",
    "    num_train_A.append((trainpreco[a]-Y_pred_train[a])**2)\n",
    "    dem_train_A.append((trainpreco[a]-y_train)**2)\n",
    "for e in range(len(testpreco)):\n",
    "    rms_test_A.append((testpreco[e]-Y_pred_test[e])**2)\n",
    "    num_test_A.append((testpreco[e]-Y_pred_test[e])**2)\n",
    "    dem_test_A.append((testpreco[e]-y_test)**2)\n",
    "\n",
    "RMS_train_A = np.sqrt(np.mean(rms_train_A))\n",
    "RMS_test_A = np.sqrt(np.mean(rms_test_A))\n",
    "R_train_A = 1-(sum(num_train_A)/sum(dem_train_A))\n",
    "R_test_A = 1-(sum(num_test_A)/sum(dem_test_A))\n",
    "\n",
    "\n",
    "R_perc_A = ((R_test_A-R_train_A)/R_train_A)*100\n",
    "RMS_perc_A = ((RMS_test_A-RMS_train_A)/RMS_train_A)*100\n",
    "\n",
    "R_perc_A, RMS_perc_A"
   ]
  },
  {
   "cell_type": "code",
   "execution_count": 61,
   "metadata": {},
   "outputs": [
    {
     "data": {
      "text/plain": [
       "(0.9289398602103867, 3481.237932419302)"
      ]
     },
     "execution_count": 61,
     "metadata": {},
     "output_type": "execute_result"
    }
   ],
   "source": [
    "R_train_A, RMS_train_A"
   ]
  },
  {
   "cell_type": "code",
   "execution_count": 63,
   "metadata": {},
   "outputs": [
    {
     "data": {
      "text/plain": [
       "(-0.4256373205627928, 15687.469555126803)"
      ]
     },
     "execution_count": 63,
     "metadata": {},
     "output_type": "execute_result"
    }
   ],
   "source": [
    "R_test_A, RMS_test_A"
   ]
  }
 ],
 "metadata": {
  "anaconda-cloud": {},
  "kernelspec": {
   "display_name": "Python 3",
   "language": "python",
   "name": "python3"
  },
  "language_info": {
   "codemirror_mode": {
    "name": "ipython",
    "version": 3
   },
   "file_extension": ".py",
   "mimetype": "text/x-python",
   "name": "python",
   "nbconvert_exporter": "python",
   "pygments_lexer": "ipython3",
   "version": "3.7.0"
  }
 },
 "nbformat": 4,
 "nbformat_minor": 1
}
