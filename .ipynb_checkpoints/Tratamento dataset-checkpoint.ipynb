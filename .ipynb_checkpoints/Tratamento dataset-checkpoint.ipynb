{
 "cells": [
  {
   "cell_type": "code",
   "execution_count": 1,
   "metadata": {},
   "outputs": [],
   "source": [
    "import pandas as pd\n",
    "import os\n",
    "import numpy as np\n",
    "import random\n",
    "from pandas import ExcelWriter"
   ]
  },
  {
   "cell_type": "code",
   "execution_count": 2,
   "metadata": {},
   "outputs": [
    {
     "name": "stderr",
     "output_type": "stream",
     "text": [
      "C:\\Users\\Freddy Dratwa\\AppData\\Local\\Programs\\Python\\Python37\\lib\\site-packages\\IPython\\core\\interactiveshell.py:3018: DtypeWarning: Columns (9,10) have mixed types. Specify dtype option on import or set low_memory=False.\n",
      "  interactivity=interactivity, compiler=compiler, result=result)\n"
     ]
    }
   ],
   "source": [
    "dataset = pd.read_csv(\"cars.csv\")"
   ]
  },
  {
   "cell_type": "code",
   "execution_count": 3,
   "metadata": {},
   "outputs": [],
   "source": [
    "dataset = dataset.sample(frac=1).reset_index(drop=True)"
   ]
  },
  {
   "cell_type": "code",
   "execution_count": 4,
   "metadata": {},
   "outputs": [],
   "source": [
    "if \"Unnamed: 10\" in dataset and \"Unnamed: 9\" in dataset and \"Vin\" in dataset:\n",
    "    dataset = dataset.drop(columns=[\"Vin\",\"Unnamed: 9\", \"Unnamed: 10\"])\n",
    "    dataset[\"Mileage\"] = dataset[\"Mileage\"].apply(lambda x: x*1.6)\n",
    "\n",
    "    dataset.columns = [\"ID\",\"PRECO\",\"ANO\",\"KM\",\"CIDADE\",\"ESTADO\",\"MARCA\",\"MODELO\"]\n",
    "    dataset[\"IDADE\"] = dataset[\"ANO\"].apply(lambda x: 2019-x)\n",
    "\n",
    "    dataset.ID = dataset.ID.astype(\"float\")\n",
    "    dataset.PRECO = dataset.PRECO.astype(\"float\")\n",
    "    dataset.ANO = dataset.ANO.astype(\"float\")\n",
    "    dataset.KM = dataset.KM.astype(\"float\")\n",
    "    dataset.IDADE = dataset.IDADE.astype(\"float\")\n",
    "    dataset.CIDADE = dataset.CIDADE.astype(\"category\")\n",
    "    dataset.ESTADO = dataset.ESTADO.astype(\"category\")\n",
    "    dataset.MARCA = dataset.MARCA.astype(\"category\")\n",
    "    dataset.MODELO = dataset.MODELO.astype(\"category\")\n",
    "\n",
    "    dataset[\"ESTADO\"] = dataset[\"ESTADO\"].apply(lambda x: x.upper())\n",
    "    dataset[\"CIDADE\"] = dataset[\"CIDADE\"].apply(lambda x: x.upper())\n",
    "    dataset[\"MARCA\"] = dataset[\"MARCA\"].apply(lambda x: x.upper())\n",
    "    dataset = dataset[[\"ID\",\"PRECO\",\"ANO\",\"IDADE\",\"KM\",\"CIDADE\",\"ESTADO\",\"MARCA\",\"MODELO\"]]"
   ]
  },
  {
   "cell_type": "code",
   "execution_count": 5,
   "metadata": {},
   "outputs": [
    {
     "data": {
      "text/html": [
       "<div>\n",
       "<style scoped>\n",
       "    .dataframe tbody tr th:only-of-type {\n",
       "        vertical-align: middle;\n",
       "    }\n",
       "\n",
       "    .dataframe tbody tr th {\n",
       "        vertical-align: top;\n",
       "    }\n",
       "\n",
       "    .dataframe thead th {\n",
       "        text-align: right;\n",
       "    }\n",
       "</style>\n",
       "<table border=\"1\" class=\"dataframe\">\n",
       "  <thead>\n",
       "    <tr style=\"text-align: right;\">\n",
       "      <th></th>\n",
       "      <th>ID</th>\n",
       "      <th>PRECO</th>\n",
       "      <th>ANO</th>\n",
       "      <th>IDADE</th>\n",
       "      <th>KM</th>\n",
       "      <th>CIDADE</th>\n",
       "      <th>ESTADO</th>\n",
       "      <th>MARCA</th>\n",
       "      <th>MODELO</th>\n",
       "    </tr>\n",
       "  </thead>\n",
       "  <tbody>\n",
       "    <tr>\n",
       "      <th>0</th>\n",
       "      <td>516508.0</td>\n",
       "      <td>32500.0</td>\n",
       "      <td>2015.0</td>\n",
       "      <td>4.0</td>\n",
       "      <td>35886.4</td>\n",
       "      <td>ANKENY</td>\n",
       "      <td>IA</td>\n",
       "      <td>CHEVROLET</td>\n",
       "      <td>ColoradoCrew</td>\n",
       "    </tr>\n",
       "    <tr>\n",
       "      <th>1</th>\n",
       "      <td>744220.0</td>\n",
       "      <td>43310.0</td>\n",
       "      <td>2017.0</td>\n",
       "      <td>2.0</td>\n",
       "      <td>5918.4</td>\n",
       "      <td>MIAMI</td>\n",
       "      <td>FL</td>\n",
       "      <td>GMC</td>\n",
       "      <td>AcadiaFWD</td>\n",
       "    </tr>\n",
       "    <tr>\n",
       "      <th>2</th>\n",
       "      <td>341109.0</td>\n",
       "      <td>26887.0</td>\n",
       "      <td>2016.0</td>\n",
       "      <td>3.0</td>\n",
       "      <td>20011.2</td>\n",
       "      <td>HOUSTON</td>\n",
       "      <td>TX</td>\n",
       "      <td>TOYOTA</td>\n",
       "      <td>SiennaL</td>\n",
       "    </tr>\n",
       "    <tr>\n",
       "      <th>3</th>\n",
       "      <td>709465.0</td>\n",
       "      <td>34999.0</td>\n",
       "      <td>2014.0</td>\n",
       "      <td>5.0</td>\n",
       "      <td>49478.4</td>\n",
       "      <td>BOWLING GREEN</td>\n",
       "      <td>KY</td>\n",
       "      <td>FORD</td>\n",
       "      <td>F-150FX4</td>\n",
       "    </tr>\n",
       "    <tr>\n",
       "      <th>4</th>\n",
       "      <td>841923.0</td>\n",
       "      <td>27198.0</td>\n",
       "      <td>2014.0</td>\n",
       "      <td>5.0</td>\n",
       "      <td>106585.6</td>\n",
       "      <td>LAS CRUCES</td>\n",
       "      <td>NM</td>\n",
       "      <td>INFINITI</td>\n",
       "      <td>QX60AWD</td>\n",
       "    </tr>\n",
       "  </tbody>\n",
       "</table>\n",
       "</div>"
      ],
      "text/plain": [
       "         ID    PRECO     ANO  IDADE        KM         CIDADE ESTADO  \\\n",
       "0  516508.0  32500.0  2015.0    4.0   35886.4         ANKENY     IA   \n",
       "1  744220.0  43310.0  2017.0    2.0    5918.4          MIAMI     FL   \n",
       "2  341109.0  26887.0  2016.0    3.0   20011.2        HOUSTON     TX   \n",
       "3  709465.0  34999.0  2014.0    5.0   49478.4  BOWLING GREEN     KY   \n",
       "4  841923.0  27198.0  2014.0    5.0  106585.6     LAS CRUCES     NM   \n",
       "\n",
       "       MARCA        MODELO  \n",
       "0  CHEVROLET  ColoradoCrew  \n",
       "1        GMC     AcadiaFWD  \n",
       "2     TOYOTA       SiennaL  \n",
       "3       FORD      F-150FX4  \n",
       "4   INFINITI       QX60AWD  "
      ]
     },
     "execution_count": 5,
     "metadata": {},
     "output_type": "execute_result"
    }
   ],
   "source": [
    "dataset = dataset[:100000]\n",
    "dataset.head()"
   ]
  },
  {
   "cell_type": "code",
   "execution_count": 6,
   "metadata": {},
   "outputs": [],
   "source": [
    "dataset.to_csv(\"Dataframe.csv\")"
   ]
  }
 ],
 "metadata": {
  "kernelspec": {
   "display_name": "Python 3",
   "language": "python",
   "name": "python3"
  },
  "language_info": {
   "codemirror_mode": {
    "name": "ipython",
    "version": 3
   },
   "file_extension": ".py",
   "mimetype": "text/x-python",
   "name": "python",
   "nbconvert_exporter": "python",
   "pygments_lexer": "ipython3",
   "version": "3.7.0"
  }
 },
 "nbformat": 4,
 "nbformat_minor": 2
}
