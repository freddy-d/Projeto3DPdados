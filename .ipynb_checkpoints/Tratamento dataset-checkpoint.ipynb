{
 "cells": [
  {
   "cell_type": "code",
   "execution_count": 1,
   "metadata": {},
   "outputs": [],
   "source": [
    "import pandas as pd\n",
    "import os\n",
    "import numpy as np\n",
    "import random\n",
    "from pandas import ExcelWriter"
   ]
  },
  {
   "cell_type": "code",
   "execution_count": 2,
   "metadata": {},
   "outputs": [
    {
     "name": "stderr",
     "output_type": "stream",
     "text": [
      "C:\\Users\\Freddy Dratwa\\AppData\\Local\\Programs\\Python\\Python37\\lib\\site-packages\\IPython\\core\\interactiveshell.py:3018: DtypeWarning: Columns (9,10) have mixed types. Specify dtype option on import or set low_memory=False.\n",
      "  interactivity=interactivity, compiler=compiler, result=result)\n"
     ]
    }
   ],
   "source": [
    "dataset = pd.read_csv(\"cars.csv\")"
   ]
  },
  {
   "cell_type": "code",
   "execution_count": 3,
   "metadata": {},
   "outputs": [],
   "source": [
    "dataset = dataset.sample(frac=1).reset_index(drop=True)\n",
    "if \"Unnamed: 10\" in dataset and \"Unnamed: 9\" in dataset and \"Vin\" in dataset:\n",
    "    dataset = dataset.drop(columns=[\"Vin\",\"Unnamed: 9\", \"Unnamed: 10\"])\n",
    "    dataset[\"Mileage\"] = dataset[\"Mileage\"].apply(lambda x: x*1.6)\n",
    "    dataset.columns = [\"ID\",\"PRECO\",\"ANO\",\"KM\",\"CIDADE\",\"ESTADO\",\"MARCA\",\"MODELO\"]"
   ]
  },
  {
   "cell_type": "code",
   "execution_count": 4,
   "metadata": {},
   "outputs": [
    {
     "data": {
      "text/html": [
       "<div>\n",
       "<style scoped>\n",
       "    .dataframe tbody tr th:only-of-type {\n",
       "        vertical-align: middle;\n",
       "    }\n",
       "\n",
       "    .dataframe tbody tr th {\n",
       "        vertical-align: top;\n",
       "    }\n",
       "\n",
       "    .dataframe thead th {\n",
       "        text-align: right;\n",
       "    }\n",
       "</style>\n",
       "<table border=\"1\" class=\"dataframe\">\n",
       "  <thead>\n",
       "    <tr style=\"text-align: right;\">\n",
       "      <th></th>\n",
       "      <th>ID</th>\n",
       "      <th>PRECO</th>\n",
       "      <th>ANO</th>\n",
       "      <th>KM</th>\n",
       "      <th>CIDADE</th>\n",
       "      <th>ESTADO</th>\n",
       "      <th>MARCA</th>\n",
       "      <th>MODELO</th>\n",
       "    </tr>\n",
       "  </thead>\n",
       "  <tbody>\n",
       "    <tr>\n",
       "      <th>0</th>\n",
       "      <td>932987.0</td>\n",
       "      <td>14991.0</td>\n",
       "      <td>2002.0</td>\n",
       "      <td>96032.0</td>\n",
       "      <td>Houston</td>\n",
       "      <td>TX</td>\n",
       "      <td>Lexus</td>\n",
       "      <td>SC</td>\n",
       "    </tr>\n",
       "    <tr>\n",
       "      <th>1</th>\n",
       "      <td>7106.0</td>\n",
       "      <td>6799.0</td>\n",
       "      <td>2012.0</td>\n",
       "      <td>145860.8</td>\n",
       "      <td>Bell</td>\n",
       "      <td>CA</td>\n",
       "      <td>Honda</td>\n",
       "      <td>Civic</td>\n",
       "    </tr>\n",
       "    <tr>\n",
       "      <th>2</th>\n",
       "      <td>112974.0</td>\n",
       "      <td>16450.0</td>\n",
       "      <td>2016.0</td>\n",
       "      <td>81430.4</td>\n",
       "      <td>Humble</td>\n",
       "      <td>TX</td>\n",
       "      <td>Chevrolet</td>\n",
       "      <td>MalibuLT</td>\n",
       "    </tr>\n",
       "    <tr>\n",
       "      <th>3</th>\n",
       "      <td>313558.0</td>\n",
       "      <td>11567.0</td>\n",
       "      <td>2012.0</td>\n",
       "      <td>211038.4</td>\n",
       "      <td>Christianburg</td>\n",
       "      <td>VA</td>\n",
       "      <td>Subaru</td>\n",
       "      <td>Outback2.5i</td>\n",
       "    </tr>\n",
       "    <tr>\n",
       "      <th>4</th>\n",
       "      <td>901706.0</td>\n",
       "      <td>13994.0</td>\n",
       "      <td>2014.0</td>\n",
       "      <td>47478.4</td>\n",
       "      <td>Killeen</td>\n",
       "      <td>TX</td>\n",
       "      <td>Kia</td>\n",
       "      <td>Forte</td>\n",
       "    </tr>\n",
       "  </tbody>\n",
       "</table>\n",
       "</div>"
      ],
      "text/plain": [
       "         ID    PRECO     ANO        KM         CIDADE ESTADO      MARCA  \\\n",
       "0  932987.0  14991.0  2002.0   96032.0        Houston     TX      Lexus   \n",
       "1    7106.0   6799.0  2012.0  145860.8           Bell     CA      Honda   \n",
       "2  112974.0  16450.0  2016.0   81430.4         Humble     TX  Chevrolet   \n",
       "3  313558.0  11567.0  2012.0  211038.4  Christianburg     VA     Subaru   \n",
       "4  901706.0  13994.0  2014.0   47478.4        Killeen     TX        Kia   \n",
       "\n",
       "        MODELO  \n",
       "0           SC  \n",
       "1        Civic  \n",
       "2     MalibuLT  \n",
       "3  Outback2.5i  \n",
       "4        Forte  "
      ]
     },
     "execution_count": 4,
     "metadata": {},
     "output_type": "execute_result"
    }
   ],
   "source": [
    "dataset = dataset[:100000]\n",
    "dataset.head()"
   ]
  },
  {
   "cell_type": "code",
   "execution_count": 5,
   "metadata": {},
   "outputs": [],
   "source": [
    "dataset.to_csv(\"Dataframe.csv\")"
   ]
  }
 ],
 "metadata": {
  "kernelspec": {
   "display_name": "Python 3",
   "language": "python",
   "name": "python3"
  },
  "language_info": {
   "codemirror_mode": {
    "name": "ipython",
    "version": 3
   },
   "file_extension": ".py",
   "mimetype": "text/x-python",
   "name": "python",
   "nbconvert_exporter": "python",
   "pygments_lexer": "ipython3",
   "version": "3.7.0"
  }
 },
 "nbformat": 4,
 "nbformat_minor": 2
}
