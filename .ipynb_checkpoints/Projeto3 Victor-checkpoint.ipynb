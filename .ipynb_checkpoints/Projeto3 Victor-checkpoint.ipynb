{
 "cells": [
  {
   "cell_type": "code",
   "execution_count": 140,
   "metadata": {},
   "outputs": [],
   "source": [
    "import pandas as pd\n",
    "import os\n",
    "import numpy as np\n",
    "import matplotlib.pyplot as plt\n",
    "import statsmodels.api as sm\n",
    "from sklearn import datasets, linear_model\n",
    "from sklearn.model_selection import train_test_split\n",
    "from sklearn.neighbors import KNeighborsRegressor\n",
    "from sklearn.metrics import mean_squared_error\n",
    "from sklearn.tree import DecisionTreeRegressor"
   ]
  },
  {
   "cell_type": "markdown",
   "metadata": {},
   "source": [
    "___\n",
    "## C. MODELOS DE PREDIÇÃO"
   ]
  },
  {
   "cell_type": "markdown",
   "metadata": {
    "collapsed": true
   },
   "source": [
    "o MODELO DE PREDIÇÃO PELA MÉDIA (Sem uso de variável explicativa)."
   ]
  },
  {
   "cell_type": "markdown",
   "metadata": {},
   "source": [
    "**Separando a base de dados em treinamento e teste aleatoriamente**"
   ]
  },
  {
   "cell_type": "code",
   "execution_count": 143,
   "metadata": {},
   "outputs": [],
   "source": [
    "train, test = train_test_split(dataset, test_size=0.25, train_size=0.75)\n",
    "Y_train = train[\"PRECO\"]\n",
    "Y_test = test[\"PRECO\"]"
   ]
  },
  {
   "cell_type": "code",
   "execution_count": 144,
   "metadata": {},
   "outputs": [],
   "source": [
    "y_train = train[\"PRECO\"].mean()\n",
    "y_test = test[\"PRECO\"].mean() # contem o preco previsto de um novo carro da base teste pelo moedelo de medias"
   ]
  },
  {
   "cell_type": "code",
   "execution_count": 145,
   "metadata": {
    "scrolled": true
   },
   "outputs": [],
   "source": [
    "rms_train = []\n",
    "rms_test = []\n",
    "num_train = []\n",
    "dem_train = []\n",
    "num_test = []\n",
    "dem_test = []\n",
    "\n",
    "trainpreco = train[\"PRECO\"].tolist()\n",
    "testpreco = test[\"PRECO\"].tolist()\n",
    "\n",
    "for a in trainpreco:\n",
    "    rms_train.append((a-y_train)**2)\n",
    "    num_train.append((a-y_train)**2)\n",
    "    dem_train.append((a-y_train)**2)\n",
    "for e in testpreco:\n",
    "    rms_test.append((e-y_train)**2)\n",
    "    num_test.append((e-y_train)**2)\n",
    "    dem_test.append((e-y_test)**2)\n",
    "\n",
    "RMS_train_M = np.sqrt(np.mean(rms_train))\n",
    "RMS_test_M = np.sqrt(np.mean(rms_test))\n",
    "R_train_M = 1-(sum(num_train)/sum(dem_train))\n",
    "R_test_M = 1-(sum(num_test)/sum(dem_test))"
   ]
  },
  {
   "cell_type": "code",
   "execution_count": 146,
   "metadata": {},
   "outputs": [
    {
     "data": {
      "text/plain": [
       "(0.0, 12994.716614075536)"
      ]
     },
     "execution_count": 146,
     "metadata": {},
     "output_type": "execute_result"
    }
   ],
   "source": [
    "R_train_M,RMS_train_M"
   ]
  },
  {
   "cell_type": "code",
   "execution_count": 147,
   "metadata": {},
   "outputs": [
    {
     "data": {
      "text/plain": [
       "(-1.8544792206531824e-05, 13329.557358106766)"
      ]
     },
     "execution_count": 147,
     "metadata": {},
     "output_type": "execute_result"
    }
   ],
   "source": [
    "R_test_M, RMS_test_M"
   ]
  },
  {
   "cell_type": "code",
   "execution_count": 148,
   "metadata": {},
   "outputs": [],
   "source": [
    "R_perc_M = 0\n",
    "RMS_perc_M = ((RMS_test_M-RMS_train_M)/RMS_train_M)*100"
   ]
  },
  {
   "cell_type": "markdown",
   "metadata": {
    "collapsed": true
   },
   "source": [
    "o MODELO DOS K VIZINHOS MAIS PRÓXIMOS (K-Nearest Neighbors Regression)"
   ]
  },
  {
   "cell_type": "code",
   "execution_count": 149,
   "metadata": {},
   "outputs": [],
   "source": [
    "X_train = train\n",
    "X_test = test\n",
    "\n",
    "#X_traindummy = pd.concat([dummify(X_train, \"ESTADO\").dropna()], axis=1), dummify(X_train, \"MODELO\").dropna(), dummify(X_train, \"MARCA\").dropna()], axis=1)\n",
    "X_train = X_train.drop(columns = [\"ID\", \"PRECO\",\"ANO\", \"CIDADE\", \"ESTADO\", \"MARCA\", \"MODELO\"])\n",
    "#X_train = pd.concat([X_train, X_traindummy], axis = 1)\n",
    "\n",
    "#X_testdummy = pd.concat([dummify(X_test, \"ESTADO\").dropna(), dummify(X_test, \"MODELO\").dropna(), dummify(X_test, \"MARCA\").dropna()], axis=1)\n",
    "X_test = X_test.drop(columns = [\"ID\", \"PRECO\",\"ANO\", \"CIDADE\", \"ESTADO\", \"MARCA\", \"MODELO\"])\n",
    "#X_test = pd.concat([X_test, X_testdummy], axis = 1)"
   ]
  },
  {
   "cell_type": "code",
   "execution_count": 150,
   "metadata": {},
   "outputs": [],
   "source": [
    "lista_erros = []\n",
    "for k in range(1, 16):\n",
    "    clf = KNeighborsRegressor(k)\n",
    "    clf.fit(X_train,Y_train)\n",
    "    Y_pred = clf.predict(X_test)\n",
    "    lista_erros.append(mean_squared_error(Y_test,Y_pred))"
   ]
  },
  {
   "cell_type": "code",
   "execution_count": 151,
   "metadata": {},
   "outputs": [
    {
     "data": {
      "image/png": "[encoded data removed]",
      "text/plain": [
       "<matplotlib.figure.Figure at 0x1c16b52940>"
      ]
     },
     "metadata": {},
     "output_type": "display_data"
    }
   ],
   "source": [
    "plt.plot(lista_erros);"
   ]
  },
  {
   "cell_type": "code",
   "execution_count": 152,
   "metadata": {},
   "outputs": [],
   "source": [
    "#k =8 é  bom \n",
    "# como chego em  R e RMS atraves disso "
   ]
  },
  {
   "cell_type": "code",
   "execution_count": 153,
   "metadata": {},
   "outputs": [],
   "source": [
    "clf = KNeighborsRegressor(8)\n",
    "clf.fit(X_train,Y_train)\n",
    "Y_pred_train = clf.predict(X_train)\n",
    "Y_pred_test = clf.predict(X_test)"
   ]
  },
  {
   "cell_type": "code",
   "execution_count": 154,
   "metadata": {},
   "outputs": [],
   "source": [
    "rms_train_K = []\n",
    "rms_test_K = []\n",
    "num_train_K = []\n",
    "dem_train_K = []\n",
    "num_test_K = []\n",
    "dem_test_K = []\n",
    "\n",
    "\n",
    "for a in range(len(trainpreco)):\n",
    "    rms_train_K.append((trainpreco[a]-Y_pred_train[a])**2)\n",
    "    num_train_K.append((trainpreco[a]-Y_pred_train[a])**2)\n",
    "    dem_train_K.append((trainpreco[a]-y_train)**2)\n",
    "for e in range(len(testpreco)):\n",
    "    rms_test_K.append((testpreco[e]-Y_pred_test[e])**2)\n",
    "    num_test_K.append((testpreco[e]-Y_pred_test[e])**2)\n",
    "    dem_test_K.append((testpreco[e]-y_test)**2)\n",
    "\n",
    "RMS_train_K = np.sqrt(np.mean(rms_train_K))\n",
    "RMS_test_K = np.sqrt(np.mean(rms_test_K))\n",
    "R_train_K = 1-(sum(num_train_K)/sum(dem_train_K))\n",
    "R_test_K = 1-(sum(num_test_K)/sum(dem_test_K))"
   ]
  },
  {
   "cell_type": "code",
   "execution_count": 155,
   "metadata": {},
   "outputs": [
    {
     "data": {
      "text/plain": [
       "(0.32034998131251236, 10712.959905794087)"
      ]
     },
     "execution_count": 155,
     "metadata": {},
     "output_type": "execute_result"
    }
   ],
   "source": [
    "R_train_K,RMS_train_K"
   ]
  },
  {
   "cell_type": "code",
   "execution_count": 156,
   "metadata": {},
   "outputs": [
    {
     "data": {
      "text/plain": [
       "(0.12307055533935063, 12482.28307072378)"
      ]
     },
     "execution_count": 156,
     "metadata": {},
     "output_type": "execute_result"
    }
   ],
   "source": [
    "R_test_K, RMS_test_K"
   ]
  },
  {
   "cell_type": "code",
   "execution_count": 157,
   "metadata": {},
   "outputs": [],
   "source": [
    "R_perc_K = ((R_test_K-R_train_K)/R_train_K)*100\n",
    "RMS_perc_K = ((RMS_test_K-RMS_train_K)/RMS_train_K)*100"
   ]
  },
  {
   "cell_type": "markdown",
   "metadata": {
    "collapsed": true
   },
   "source": [
    "___\n",
    "## D. PROCESSO E ESTATÍSTICAS DE VALIDAÇÃO"
   ]
  },
  {
   "cell_type": "markdown",
   "metadata": {},
   "source": [
    "Nesta céluka abaixo foi criado um dataframe com os valores de Rˆ2 e RMS de treinamento e de teste de cada variável, além disso o percentual do Rˆ2 e do RMS."
   ]
  },
  {
   "cell_type": "code",
   "execution_count": 158,
   "metadata": {},
   "outputs": [],
   "source": [
    "predicoes = [\"Media\", \"K-NN\", \"Regressão\", \"Árvore de Decisão\"]\n",
    "R_TRAIN = [R_train_M, R_train_K, 0, 0]\n",
    "R_TEST = [R_test_M, R_test_K, 0, 0]\n",
    "R_PERC = [R_perc_M, R_perc_K, 0, 0]\n",
    "RMS_TRAIN = [RMS_train_M, RMS_train_K, 0, 0]\n",
    "RMS_TEST = [RMS_test_M, RMS_test_K, 0, 0]\n",
    "RMS_PERC = [RMS_perc_M, RMS_perc_K, 0, 0]\n",
    "PREDI = pd.DataFrame(data = predicoes)\n",
    "PREDI.columns = [\"Modelo\"]\n",
    "PREDI[\"Rˆ2 Treinamento\"] = R_TRAIN\n",
    "PREDI[\"Rˆ2 Teste\"] = R_TEST\n",
    "PREDI[\"Rˆ2 %\"] = R_PERC\n",
    "PREDI[\"RMS Treinamento\"] = RMS_TRAIN\n",
    "PREDI[\"RMS Teste\"] = RMS_TEST\n",
    "PREDI[\"RMS %\"] = RMS_PERC"
   ]
  },
  {
   "cell_type": "code",
   "execution_count": 159,
   "metadata": {},
   "outputs": [
    {
     "data": {
      "text/html": [
       "<div>\n",
       "<style scoped>\n",
       "    .dataframe tbody tr th:only-of-type {\n",
       "        vertical-align: middle;\n",
       "    }\n",
       "\n",
       "    .dataframe tbody tr th {\n",
       "        vertical-align: top;\n",
       "    }\n",
       "\n",
       "    .dataframe thead th {\n",
       "        text-align: right;\n",
       "    }\n",
       "</style>\n",
       "<table border=\"1\" class=\"dataframe\">\n",
       "  <thead>\n",
       "    <tr style=\"text-align: right;\">\n",
       "      <th></th>\n",
       "      <th>Modelo</th>\n",
       "      <th>Rˆ2 Treinamento</th>\n",
       "      <th>Rˆ2 Teste</th>\n",
       "      <th>Rˆ2 %</th>\n",
       "      <th>RMS Treinamento</th>\n",
       "      <th>RMS Teste</th>\n",
       "      <th>RMS %</th>\n",
       "    </tr>\n",
       "  </thead>\n",
       "  <tbody>\n",
       "    <tr>\n",
       "      <th>0</th>\n",
       "      <td>Media</td>\n",
       "      <td>0.00000</td>\n",
       "      <td>-0.000019</td>\n",
       "      <td>0.000000</td>\n",
       "      <td>12994.716614</td>\n",
       "      <td>13329.557358</td>\n",
       "      <td>2.576745</td>\n",
       "    </tr>\n",
       "    <tr>\n",
       "      <th>1</th>\n",
       "      <td>K-NN</td>\n",
       "      <td>0.32035</td>\n",
       "      <td>0.123071</td>\n",
       "      <td>-61.582468</td>\n",
       "      <td>10712.959906</td>\n",
       "      <td>12482.283071</td>\n",
       "      <td>16.515727</td>\n",
       "    </tr>\n",
       "    <tr>\n",
       "      <th>2</th>\n",
       "      <td>Regressão</td>\n",
       "      <td>0.00000</td>\n",
       "      <td>0.000000</td>\n",
       "      <td>0.000000</td>\n",
       "      <td>0.000000</td>\n",
       "      <td>0.000000</td>\n",
       "      <td>0.000000</td>\n",
       "    </tr>\n",
       "    <tr>\n",
       "      <th>3</th>\n",
       "      <td>Árvore de Decisão</td>\n",
       "      <td>0.00000</td>\n",
       "      <td>0.000000</td>\n",
       "      <td>0.000000</td>\n",
       "      <td>0.000000</td>\n",
       "      <td>0.000000</td>\n",
       "      <td>0.000000</td>\n",
       "    </tr>\n",
       "  </tbody>\n",
       "</table>\n",
       "</div>"
      ],
      "text/plain": [
       "              Modelo  Rˆ2 Treinamento  Rˆ2 Teste      Rˆ2 %  RMS Treinamento  \\\n",
       "0              Media          0.00000  -0.000019   0.000000     12994.716614   \n",
       "1               K-NN          0.32035   0.123071 -61.582468     10712.959906   \n",
       "2          Regressão          0.00000   0.000000   0.000000         0.000000   \n",
       "3  Árvore de Decisão          0.00000   0.000000   0.000000         0.000000   \n",
       "\n",
       "      RMS Teste      RMS %  \n",
       "0  13329.557358   2.576745  \n",
       "1  12482.283071  16.515727  \n",
       "2      0.000000   0.000000  \n",
       "3      0.000000   0.000000  "
      ]
     },
     "execution_count": 159,
     "metadata": {},
     "output_type": "execute_result"
    }
   ],
   "source": [
    "PREDI"
   ]
  }
 ],
 "metadata": {
  "anaconda-cloud": {},
  "kernelspec": {
   "display_name": "Python 3",
   "language": "python",
   "name": "python3"
  },
  "language_info": {
   "codemirror_mode": {
    "name": "ipython",
    "version": 3
   },
   "file_extension": ".py",
   "mimetype": "text/x-python",
   "name": "python",
   "nbconvert_exporter": "python",
   "pygments_lexer": "ipython3",
   "version": "3.7.0"
  }
 },
 "nbformat": 4,
 "nbformat_minor": 1
}
